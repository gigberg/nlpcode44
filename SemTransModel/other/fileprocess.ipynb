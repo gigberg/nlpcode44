{
 "cells": [
  {
   "cell_type": "code",
   "execution_count": 1,
   "metadata": {},
   "outputs": [
    {
     "name": "stdout",
     "output_type": "stream",
     "text": [
      "2022年5月7日 星期六\n"
     ]
    }
   ],
   "source": [
    "# 1-1 批量生成onenote日程记录表的星期\n",
    "week = ['一', '二', '三', '四', '五', '六', '日']\n",
    "for i in range(7,5,-1):\n",
    "    print(f\"2022年5月{i}日 星期{week[i%7-2]}\")"
   ]
  },
  {
   "cell_type": "code",
   "execution_count": null,
   "metadata": {},
   "outputs": [],
   "source": []
  }
 ],
 "metadata": {
  "kernelspec": {
   "display_name": "Python 3.9.7 ('torch190')",
   "language": "python",
   "name": "python3"
  },
  "language_info": {
   "codemirror_mode": {
    "name": "ipython",
    "version": 3
   },
   "file_extension": ".py",
   "mimetype": "text/x-python",
   "name": "python",
   "nbconvert_exporter": "python",
   "pygments_lexer": "ipython3",
   "version": "3.9.7"
  },
  "orig_nbformat": 4,
  "vscode": {
   "interpreter": {
    "hash": "fcfb5a621c0edbf786756912908d3d80a2726106c02d9512755c0aff2e95f196"
   }
  }
 },
 "nbformat": 4,
 "nbformat_minor": 2
}
