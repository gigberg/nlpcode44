{
  "cells": [
    {
      "cell_type": "markdown",
      "metadata": {},
      "source": [
        "\n",
        "[Learn the Basics](intro.html) ||\n",
        "**Quickstart** ||\n",
        "[Tensors](tensorqs_tutorial.html) ||\n",
        "[Datasets & DataLoaders](data_tutorial.html) ||\n",
        "[Transforms](transforms_tutorial.html) ||\n",
        "[Build Model](buildmodel_tutorial.html) ||\n",
        "[Autograd](autogradqs_tutorial.html) ||\n",
        "[Optimization](optimization_tutorial.html) ||\n",
        "[Save & Load Model](saveloadrun_tutorial.html)\n",
        "\n",
        "# Quickstart\n",
        "This section runs through the API for common tasks in machine learning. Refer to the links in each section to dive deeper.\n",
        "\n",
        "## Working with data\n",
        "PyTorch has two [primitives to work with data](https://pytorch.org/docs/stable/data.html):\n",
        "``torch.utils.data.DataLoader`` and ``torch.utils.data.Dataset``.\n",
        "``Dataset`` stores the samples and their corresponding labels, and ``DataLoader`` wraps an iterable around\n",
        "the ``Dataset``.\n"
      ]
    },
    {
      "cell_type": "code",
      "execution_count": 83,
      "metadata": {
        "collapsed": false,
        "vscode": {
          "languageId": "python"
        }
      },
      "outputs": [],
      "source": [
        "# ML workflow: preparing data -> creating model -> optimizing parameters -> saving model\n",
        "# Working with data\n",
        "# PyTorch has two primitives to work with data: torch.utils.data.Dataset stores the samples and their corresponding labels, and \n",
        "# torch.utils.data.DataLoader{(N, C, H, W), (N, y)} wraps an iterable batch around the Dataset{N, (C, X_H, X_W, y)}.\n",
        "import torch\n",
        "from torch import nn\n",
        "from torch.utils.data import DataLoader\n",
        "\n",
        "# Every TorchVision Dataset includes two arguments: transform and target_transform to modify the samples and labels respectively.\n",
        "from torchvision import datasets # torch.utils.data.Dataset objects\n",
        "from torchvision.transforms import ToTensor"
      ]
    },
    {
      "cell_type": "markdown",
      "metadata": {},
      "source": [
        "PyTorch offers domain-specific libraries such as [TorchText](https://pytorch.org/text/stable/index.html),\n",
        "[TorchVision](https://pytorch.org/vision/stable/index.html), and [TorchAudio](https://pytorch.org/audio/stable/index.html),\n",
        "all of which include datasets. For this tutorial, we  will be using a TorchVision dataset.\n",
        "\n",
        "The ``torchvision.datasets`` module contains ``Dataset`` objects for many real-world vision data like\n",
        "CIFAR, COCO ([full list here](https://pytorch.org/vision/stable/datasets.html)). In this tutorial, we\n",
        "use the FashionMNIST dataset. Every TorchVision ``Dataset`` includes two arguments: ``transform`` and\n",
        "``target_transform`` to modify the samples and labels respectively.\n",
        "\n"
      ]
    },
    {
      "cell_type": "code",
      "execution_count": 51,
      "metadata": {
        "collapsed": false,
        "vscode": {
          "languageId": "python"
        }
      },
      "outputs": [],
      "source": [
        "# Download training data from open datastets\n",
        "# type(training_data).__mro__ = (torchvision.datasets.mnist.FashionMNIST, torchvision.datasets.mnist.MNIST,\n",
        "#                                 torchvision.datasets.vision.VisionDataset, torch.utils.data.dataset.Dataset,\n",
        "#                                   typing.Generic, object)\n",
        "# len(training_data) = 60000, type(training_data[0]) = tuple\n",
        "# training_data[0] = (tensor([[28*28]]),9) -> tuple, the first element of the tuple is tensor because of transform=ToTensor()\n",
        "# training_data[0][0].shape = torch.Size([1, 28, 28]), consisted of float between 0~1\n",
        "training_data = datasets.FashionMNIST( \n",
        "    root=\"../nlpcode/nlpdatahub\",\n",
        "    train=True,\n",
        "    download=True,\n",
        "    transform=ToTensor(),\n",
        ")\n",
        "\n",
        "#Download test data from open datasets.\n",
        "test_data = datasets.FashionMNIST(\n",
        "    root=\"../nlpcode/nlpdatahub\",\n",
        "    train=False,\n",
        "    download=True,\n",
        "    transform=ToTensor(),\n",
        "\n",
        ")"
      ]
    },
    {
      "cell_type": "markdown",
      "metadata": {},
      "source": [
        "We pass the ``Dataset`` as an argument to ``DataLoader``. This wraps an iterable over our dataset, and supports\n",
        "automatic batching, sampling, shuffling and multiprocess data loading. Here we define a batch size of 64, i.e. each element\n",
        "in the dataloader iterable will return a batch of 64 features and labels.\n",
        "\n"
      ]
    },
    {
      "cell_type": "code",
      "execution_count": 52,
      "metadata": {
        "collapsed": false,
        "vscode": {
          "languageId": "python"
        }
      },
      "outputs": [
        {
          "name": "stdout",
          "output_type": "stream",
          "text": [
            "Shape of X [N, C, H, W]: torch.Size([64, 1, 28, 28])\n",
            "Shape of y: torch.Size([64]) torch.int64\n"
          ]
        }
      ],
      "source": [
        "batch_size = 64\n",
        "\n",
        "# Create data loaders X, y iterator.\n",
        "# type(train_dataloader).__mro__ = ((torch.utils.data.dataloader.DataLoader, typing.Generic, object))\n",
        "# len(train_dataloader.dataset) = 60000, len(train_dataloader) = 60000/64 = 938 b atches, \n",
        "# iterator to list: list(train_dataloader) = [[tensor_X, tensor_y],...,num=938]\n",
        "# Shape of X [N, C, H, W]: torch.Size([64, 1, 28, 28]), Shape of y: torch.Size([64]) torch.int64\n",
        "train_dataloader = DataLoader(training_data, batch_size=batch_size)\n",
        "test_dataloader = DataLoader(test_data, batch_size)\n",
        "\n",
        "for X, y in test_dataloader:\n",
        "    print(f\"Shape of X [N, C, H, W]: {X.shape}\")\n",
        "    print(f\"Shape of y: {y.shape} {y.dtype}\")\n",
        "    break # 只循环一次"
      ]
    },
    {
      "cell_type": "markdown",
      "metadata": {},
      "source": [
        "Read more about [loading data in PyTorch](data_tutorial.html).\n",
        "\n",
        "\n"
      ]
    },
    {
      "cell_type": "markdown",
      "metadata": {},
      "source": [
        "--------------\n",
        "\n",
        "\n"
      ]
    },
    {
      "cell_type": "markdown",
      "metadata": {},
      "source": [
        "## Creating Models\n",
        "To define a neural network in PyTorch, we create a class that inherits\n",
        "from [nn.Module](https://pytorch.org/docs/stable/generated/torch.nn.Module.html). We define the layers of the network\n",
        "in the ``__init__`` function and specify how data will pass through the network in the ``forward`` function. To accelerate\n",
        "operations in the neural network, we move it to the GPU if available.\n",
        "\n"
      ]
    },
    {
      "cell_type": "code",
      "execution_count": 58,
      "metadata": {
        "collapsed": false,
        "vscode": {
          "languageId": "python"
        }
      },
      "outputs": [
        {
          "name": "stdout",
          "output_type": "stream",
          "text": [
            "Using cuda:0 device\n",
            "NeuralNetwork(\n",
            "  (flatten): Flatten(start_dim=1, end_dim=-1)\n",
            "  (linear_relu_stack): Sequential(\n",
            "    (0): Linear(in_features=784, out_features=512, bias=True)\n",
            "    (1): ReLU()\n",
            "    (2): Linear(in_features=512, out_features=512, bias=True)\n",
            "    (3): ReLU()\n",
            "    (4): Linear(in_features=512, out_features=10, bias=True)\n",
            "  )\n",
            ")\n"
          ]
        }
      ],
      "source": [
        "# Creating Models\n",
        "# Get cpu or gpu device for training.\n",
        "device = \"cuda:0\" if torch.cuda.is_available() else \"cpu\"\n",
        "print(f\"Using {device} device\")\n",
        "\n",
        "# To define a neural network in PyTorch, we create a class that inherits from nn.Module. \n",
        "# Define Model\n",
        "class NeuralNetwork(nn.Module):\n",
        "    def __init__(self): # define the layers of the network \n",
        "        super(NeuralNetwork, self).__init__()  \n",
        "        self.flatten = nn.Flatten() # NCHW([64, 1, 28, 28]) -> flatten(1, -1) = (64 , 28*28)\n",
        "        # 前馈神经网络模型：y = f(𝒘T𝒙 + 𝑏)，f()为神经元的非线性激活函数，wT为神经元权重\n",
        "        # 非线性激活函数ReLU=max(0, x)用于中间层，非线性激活函数Sigmoid->(0,1)用于最后的概率值输出层\n",
        "        # 每个/层神经元由权重linear_wT和激活函数ReLU(或Sigmoid)构成，本例中为三层神经网络(两个ReLU+一个漏了的的用于输出的Sigmoid)\n",
        "        # 输入层flatten -> 3个隐藏层Linear -> 输出层sigmoid\n",
        "        self.linear_relu_stack = nn.Sequential(  # input: 64 batches X_(28*28)\n",
        "            nn.Linear(28*28, 512),               # 64 batches {X_(28*28) . wT_(28*28,512) + b_(512)-> y_(512)}\n",
        "            nn.ReLU(),                           # 64 batches {y_(512)-> y_(512)}\n",
        "            nn.Linear(512, 512),                 # 64 batches {X_(512) . wT_(512,512) + b_(512)-> y_(512)}\n",
        "            nn.ReLU(),                           # 64 batches {y_(512)-> y_(512)}\n",
        "            nn.Linear(512, 10),                  # 64 batches {X_(512) . wT_(512,10) + b_(10)-> y_(10)}\n",
        "            # nn.Sigmoid()                       # output: 64 batches {y_(10)}  \n",
        "            # nn.Softmax(dim=1)     \n",
        "        )\n",
        "        # 本例中忘记加入的Sigmoid函数(sigmoid可以放在放在模型中或者forward中)\n",
        "        # 64 batches Sigmoid_{y_(10)-> y_(10)}  \n",
        "        \n",
        "        # 查看各层神经网络中的参数：权重和偏差\n",
        "        # for name, param in model.named_parameters():\n",
        "        #     print(name, param.shape)\n",
        "        # \n",
        "        # linear_relu_stack.0.weight torch.Size([512, 784]) -> Linear(28*28, 512), Linear值也即权重系数矩阵转置后的wT值\n",
        "        # linear_relu_stack.0.bias torch.Size([512])        -> Linear.bias(512)\n",
        "        # linear_relu_stack.2.weight torch.Size([512, 512]) -> Linear(512, 512),\n",
        "        # linear_relu_stack.2.bias torch.Size([512])        -> Linear.bias(512)\n",
        "        # linear_relu_stack.4.weight torch.Size([10, 512])  -> Linear(512, 10) \n",
        "        # linear_relu_stack.4.bias torch.Size([10])         -> Linear.bias(10)\n",
        "        #                   4.bias = list(model.parameters())[5] = tensor([ 0.0398, -0.0169, -0.0100,  0.0044,  \n",
        "        #                        -0.0198, 0.0174, -0.0120,  0.0384, 0.0268, -0.0440], device='cuda:0', requires_grad=True)\n",
        "        # above model.parameters() value is also what in model.pth and model.state_dict()\n",
        "        \n",
        "    def forward(self, x): # specify how data will pass through the network, x.shape = torch.Size([64, 1, 28, 28]) one batch\n",
        "        x = self.flatten(x) # x.shape = torch.Size([64, 784])\n",
        "        logits = self.linear_relu_stack(x) # logit.shape = torch.Size([64, 10])\n",
        "        # logits[0] = tensor([ 0.1264, -0.0450,  0.0593,  0.0600, -0.0301,  0.0103,  0.0152,  0.1127,\n",
        "        #                              0.0805, -0.1390], device='cuda:0', grad_fn=<SelectBackward0>)\n",
        "        # logits概率值中有负数是因为最后一层没有使用Sigmiod激活函数限制值的范围到(0,1),\n",
        "        # 或者说没有softmax函数限制(0,1)且和为1(更像概率值)\n",
        "        # logits = torch.sigmoid(logits)\n",
        "        return logits\n",
        "\n",
        "# move to GPU, To accelerate operations in the neural network\n",
        "model = NeuralNetwork().to(device)\n",
        "print(model)"
      ]
    },
    {
      "cell_type": "code",
      "execution_count": 59,
      "metadata": {
        "vscode": {
          "languageId": "python"
        }
      },
      "outputs": [],
      "source": [
        "from torch.utils.tensorboard import SummaryWriter\n",
        "#在tensorboard中查看模型\n",
        "writer = SummaryWriter('./data/tensorboard')\n",
        "writer.add_graph(model, input_to_model = next(iter(train_dataloader))[0].to(device))\n",
        "writer.close()"
      ]
    },
    {
      "cell_type": "code",
      "execution_count": 4,
      "metadata": {
        "vscode": {
          "languageId": "python"
        }
      },
      "outputs": [
        {
          "name": "stdout",
          "output_type": "stream",
          "text": [
            "graph(%len.1 : int):\n",
            "  %21 : int = prim::Constant[value=1]()\n",
            "  %13 : bool = prim::Constant[value=1]() # /tmp/ipykernel_2042247/2032849203.py:7:2\n",
            "  %5 : NoneType = prim::Constant()\n",
            "  %1 : int = prim::Constant[value=3]() # /tmp/ipykernel_2042247/2032849203.py:6:19\n",
            "  %2 : int = prim::Constant[value=4]() # /tmp/ipykernel_2042247/2032849203.py:6:22\n",
            "  %16 : int = prim::Constant[value=10]() # /tmp/ipykernel_2042247/2032849203.py:8:11\n",
            "  %20 : float = prim::Constant[value=1.]() # /tmp/ipykernel_2042247/2032849203.py:9:18\n",
            "  %4 : int[] = prim::ListConstruct(%1, %2)\n",
            "  %rv.1 : Tensor = aten::zeros(%4, %5, %5, %5, %5) # /tmp/ipykernel_2042247/2032849203.py:6:7\n",
            "  %rv : Tensor = prim::Loop(%len.1, %13, %rv.1) # /tmp/ipykernel_2042247/2032849203.py:7:2\n",
            "    block0(%i.1 : int, %rv.29 : Tensor):\n",
            "      %17 : bool = aten::lt(%i.1, %16) # /tmp/ipykernel_2042247/2032849203.py:8:7\n",
            "      %rv.27 : Tensor = prim::If(%17) # /tmp/ipykernel_2042247/2032849203.py:8:4\n",
            "        block0():\n",
            "          %rv.5 : Tensor = aten::sub(%rv.29, %20, %21) # /tmp/ipykernel_2042247/2032849203.py:9:13\n",
            "          -> (%rv.5)\n",
            "        block1():\n",
            "          %rv.11 : Tensor = aten::add(%rv.29, %20, %21) # /tmp/ipykernel_2042247/2032849203.py:11:13\n",
            "          -> (%rv.11)\n",
            "      -> (%13, %rv.27)\n",
            "  return (%rv)\n",
            "\n",
            "def foo(len: int) -> Tensor:\n",
            "  rv = torch.zeros([3, 4])\n",
            "  rv0 = rv\n",
            "  for i in range(len):\n",
            "    if torch.lt(i, 10):\n",
            "      rv1 = torch.sub(rv0, 1.)\n",
            "    else:\n",
            "      rv1 = torch.add(rv0, 1.)\n",
            "    rv0 = rv1\n",
            "  return rv0\n",
            "\n"
          ]
        }
      ],
      "source": [
        "# 查看torchscript生成的IR graph表示和code表示\n",
        "import torch\n",
        "@torch.jit.script\n",
        "def foo(len):\n",
        "  # type: (int) -> torch.Tensor\n",
        "  rv = torch.zeros(3, 4)\n",
        "  for i in range(len):\n",
        "    if i < 10:\n",
        "        rv = rv - 1.0\n",
        "    else:\n",
        "        rv = rv + 1.0\n",
        "  return rv\n",
        "\n",
        "print(foo.graph)\n",
        "print(foo.code)"
      ]
    },
    {
      "cell_type": "markdown",
      "metadata": {},
      "source": [
        "Read more about [building neural networks in PyTorch](buildmodel_tutorial.html).\n",
        "\n",
        "\n"
      ]
    },
    {
      "cell_type": "markdown",
      "metadata": {},
      "source": [
        "--------------\n",
        "\n",
        "\n"
      ]
    },
    {
      "cell_type": "markdown",
      "metadata": {},
      "source": [
        "## Optimizing the Model Parameters\n",
        "To train a model, we need a [loss function](https://pytorch.org/docs/stable/nn.html#loss-functions)\n",
        "and an [optimizer](https://pytorch.org/docs/stable/optim.html).\n",
        "\n"
      ]
    },
    {
      "cell_type": "code",
      "execution_count": 5,
      "metadata": {
        "collapsed": false,
        "vscode": {
          "languageId": "python"
        }
      },
      "outputs": [],
      "source": [
        "# Optimizing the Model Parameters\n",
        "# To train a model, we need a loss function and an optimizer.\n",
        "loss_fn = nn.CrossEntropyLoss()\n",
        "optimizer = torch.optim.SGD(model.parameters(), lr=1e-3)"
      ]
    },
    {
      "cell_type": "code",
      "execution_count": null,
      "metadata": {
        "vscode": {
          "languageId": "python"
        }
      },
      "outputs": [],
      "source": []
    },
    {
      "cell_type": "markdown",
      "metadata": {},
      "source": [
        "In a single training loop, the model makes predictions on the training dataset (fed to it in batches), and\n",
        "backpropagates the prediction error to adjust the model's parameters.\n",
        "\n"
      ]
    },
    {
      "cell_type": "code",
      "execution_count": 6,
      "metadata": {
        "collapsed": false,
        "vscode": {
          "languageId": "python"
        }
      },
      "outputs": [],
      "source": [
        "# a single training loop, the model makes predictions, backpropagates the prediction error, adjust the model’s parameters.\n",
        "def train(dataloader, model, loss_fn, optimizer):\n",
        "    size = len(dataloader.dataset) # size = 60000\n",
        "    model.train() # Sets the module in training mode\n",
        "    for batch, (X, y) in enumerate(dataloader): \n",
        "        X, y = X.to(device), y.to(device) # X.shape = torch.Size([64, 1, 28, 28]), y.shape = torch.Size([64])\n",
        "        \n",
        "        # Compute prediction error\n",
        "        pred = model(X) # pred.shape = torch.Size([64, 10]), 64 batches\n",
        "        # pred[0] = tensor([ 0.1264, -0.0450,  0.0593,  0.0600, -0.0301,  0.0103,  0.0152,  0.1127,\n",
        "        #                              0.0805, -0.1390], device='cuda:0', grad_fn=<SelectBackward0>)\n",
        "        # pred概率值中有负数是因为最后一层没有使用Sigmiod激活函数限制值的范围到(0,1)\n",
        "        \n",
        "        loss = loss_fn(pred, y) # type(loss) = 'torch.Tensor', len(loss) = 1\n",
        "        # loss = tensor(2.3079, device='cuda:0', grad_fn=<NllLossBackward0>)\n",
        "\n",
        "        #3 Backpropagation\n",
        "        optimizer.zero_grad() # Sets the gradients of all optimized torch.Tensor s to zero.\n",
        "        loss.backward() # Computes the gradient of current tensor('loss') w.r.t. graph leaves\n",
        "        # every tensor has a grad attribute (None by default and becomes a Tensor \n",
        "        # the first time a call to backward computes gradients for self.  \n",
        "        # and a grad_fn prop in which there stores tensors it is derived from\n",
        "        # ;\n",
        "        # When we do loss.backward() the process of backpropagation starts at the loss \n",
        "        # and goes through all of its parents all the way to model inputs parameter's grad attribute\n",
        "        optimizer.step() # Performs a single optimization step (parameter tensor update).\n",
        "        # use their(parameter's) internally stored grad to update their values.\n",
        "\n",
        "        if batch % 100 == 0:\n",
        "            loss, current = loss.item(), batch * len(X)\n",
        "            print(f\"loss: {loss:>7f}    [{current:>5d}/{size:>5d}]\") # 检验loss是否有被优化、是否在下降"
      ]
    },
    {
      "cell_type": "markdown",
      "metadata": {},
      "source": [
        "We also check the model's performance against the test dataset to ensure it is learning.\n",
        "\n"
      ]
    },
    {
      "cell_type": "code",
      "execution_count": 7,
      "metadata": {
        "collapsed": false,
        "vscode": {
          "languageId": "python"
        }
      },
      "outputs": [],
      "source": [
        "#  check the model’s performance against the test dataset to ensure it is learning.\n",
        "def test(dataloader, model, loss_fn):\n",
        "    size = len(dataloader.dataset) \n",
        "    num_batches = len(dataloader)\n",
        "    model.eval() # Sets the module in evaluation mode\n",
        "    test_loss, correct = 0, 0\n",
        "    with torch.no_grad(): # Context-manager that disabled gradient calculatio\n",
        "        for X, y in dataloader:\n",
        "            X, y = X.to(device), y.to(device)\n",
        "            pred = model(X)\n",
        "            test_loss += loss_fn(pred, y).item()\n",
        "            correct += (pred.argmax(1) == y).type(torch.float).sum().item() # 预测正确的个数\n",
        "            # torch.argmax() :Returns the indices of the maximum values of a tensor across a dimension\n",
        "            # pred[0] = tensor([[-2.5338, -2.6526, -0.8845, -2.1145, -0.8406,  2.5560, -1.0434,  2.8125, 1.8455,  3.1938]])\n",
        "            # pred.shape = torch.Size([64, 10])\n",
        "            # pred.argmax(1).shape = torch.Size([64])\n",
        "            # (pred.argmax(1) == y).shape = torch.Size([64]) consisted of True or False\n",
        "            # (pred.argmax(1) == y).type(torch.float) consisted of 1. or 2.0\n",
        "            # .sum().item() 计算预测正确的个数\n",
        "    test_loss /= num_batches # n个batch的平均损失\n",
        "    correct /= size # 正确率\n",
        "    # to see the accuracy increase and the loss decrease with every epoch.\n",
        "    print(f\"Test Error: \\n Accuracy: {(100*correct):>0.1f}%, Avg loss: {test_loss:>8f} \\n\")"
      ]
    },
    {
      "cell_type": "markdown",
      "metadata": {},
      "source": [
        "The training process is conducted over several iterations (*epochs*). During each epoch, the model learns\n",
        "parameters to make better predictions. We print the model's accuracy and loss at each epoch; we'd like to see the\n",
        "accuracy increase and the loss decrease with every epoch.\n",
        "\n"
      ]
    },
    {
      "cell_type": "code",
      "execution_count": 8,
      "metadata": {
        "collapsed": false,
        "vscode": {
          "languageId": "python"
        }
      },
      "outputs": [
        {
          "name": "stdout",
          "output_type": "stream",
          "text": [
            "Epoch 1\n",
            "-------------------------------\n",
            "loss: 2.287906    [    0/60000]\n",
            "loss: 2.278855    [ 6400/60000]\n",
            "loss: 2.262914    [12800/60000]\n",
            "loss: 2.268467    [19200/60000]\n",
            "loss: 2.235638    [25600/60000]\n",
            "loss: 2.212586    [32000/60000]\n",
            "loss: 2.215851    [38400/60000]\n",
            "loss: 2.175164    [44800/60000]\n",
            "loss: 2.177122    [51200/60000]\n",
            "loss: 2.147410    [57600/60000]\n",
            "Test Error: \n",
            " Accuracy: 44.0%, Avg loss: 2.139662 \n",
            "\n",
            "Epoch 2\n",
            "-------------------------------\n",
            "loss: 2.144533    [    0/60000]\n",
            "loss: 2.132601    [ 6400/60000]\n",
            "loss: 2.074656    [12800/60000]\n",
            "loss: 2.100196    [19200/60000]\n",
            "loss: 2.038900    [25600/60000]\n",
            "loss: 1.982468    [32000/60000]\n",
            "loss: 2.010017    [38400/60000]\n",
            "loss: 1.924220    [44800/60000]\n",
            "loss: 1.933917    [51200/60000]\n",
            "loss: 1.862314    [57600/60000]\n",
            "Test Error: \n",
            " Accuracy: 53.9%, Avg loss: 1.853933 \n",
            "\n",
            "Done!\n"
          ]
        }
      ],
      "source": [
        "epochs = 2\n",
        "for t in range(epochs):\n",
        "    print(f\"Epoch {t+1}\\n-------------------------------\")\n",
        "    train(train_dataloader, model, loss_fn, optimizer)\n",
        "    test(test_dataloader, model, loss_fn)\n",
        "print(\"Done!\")\n",
        "# Accuracy: 64.6%, Avg loss: 1.106282\n",
        "# Accuracy: 70.9%, Avg loss: 0.783265 (epoch=20)\n",
        "# with sigmoid Accuracy: 45.5%, Avg loss: 2.245753\n",
        "# with softmax Accuracy: 10.4%, Avg loss: 2.294693 "
      ]
    },
    {
      "cell_type": "markdown",
      "metadata": {},
      "source": [
        "Read more about [Training your model](optimization_tutorial.html).\n",
        "\n",
        "\n"
      ]
    },
    {
      "cell_type": "markdown",
      "metadata": {},
      "source": [
        "--------------\n",
        "\n",
        "\n"
      ]
    },
    {
      "cell_type": "markdown",
      "metadata": {},
      "source": [
        "## Saving Models\n",
        "A common way to save a model is to serialize the internal state dictionary (containing the model parameters).\n",
        "\n"
      ]
    },
    {
      "cell_type": "code",
      "execution_count": 11,
      "metadata": {
        "collapsed": false,
        "vscode": {
          "languageId": "python"
        }
      },
      "outputs": [
        {
          "name": "stdout",
          "output_type": "stream",
          "text": [
            "Saved PyTorch Model State to model.pth\n"
          ]
        }
      ],
      "source": [
        "# Saving Models\n",
        "torch.save(model.state_dict(), \"model.pth\") #  serialize the internal state dictionary (containing the model parameters)\n",
        "print(\"Saved PyTorch Model State to model.pth\")"
      ]
    },
    {
      "cell_type": "markdown",
      "metadata": {},
      "source": [
        "## Loading Models\n",
        "\n",
        "The process for loading a model includes re-creating the model structure and loading\n",
        "the state dictionary into it.\n",
        "\n"
      ]
    },
    {
      "cell_type": "code",
      "execution_count": 13,
      "metadata": {
        "collapsed": false,
        "vscode": {
          "languageId": "python"
        }
      },
      "outputs": [
        {
          "data": {
            "text/plain": [
              "<All keys matched successfully>"
            ]
          },
          "execution_count": 13,
          "metadata": {},
          "output_type": "execute_result"
        }
      ],
      "source": [
        "# Loading Models: re-creating the model structure and loading the state dictionary into it\n",
        "model = NeuralNetwork() # re-creating the model structure\n",
        "model.load_state_dict(torch.load(\"model.pth\")) # loading the state dictionary, torch.load() Loads an object saved with torch.save from a file. \n",
        "# type(torch.load(\"model.pth\")) = collections.OrderedDict\n",
        "# model.pth, model.state_dict(), model.parameters()\n",
        "# optimizer.param_groups[0]['params']中包含的都是所有网络层中的权重系数矩阵和偏差矩阵的值"
      ]
    },
    {
      "cell_type": "markdown",
      "metadata": {},
      "source": [
        "This model can now be used to make predictions.\n",
        "\n"
      ]
    },
    {
      "cell_type": "code",
      "execution_count": 14,
      "metadata": {
        "collapsed": false,
        "vscode": {
          "languageId": "python"
        }
      },
      "outputs": [
        {
          "name": "stdout",
          "output_type": "stream",
          "text": [
            "Predicted: \"Ankle boot\", Actual: \"Ankle boot\"\n"
          ]
        }
      ],
      "source": [
        "classes = [\n",
        "    \"T-shirt/top\",\n",
        "    \"Trouser\",\n",
        "    \"Pullover\",\n",
        "    \"Dress\",\n",
        "    \"Coat\",\n",
        "    \"Sandal\",\n",
        "    \"Shirt\",\n",
        "    \"Sneaker\",\n",
        "    \"Bag\",\n",
        "    \"Ankle boot\",\n",
        "]\n",
        "\n",
        "model.eval()\n",
        "\n",
        "\n",
        "x, y = test_data[0][0], test_data[0][1]\n",
        "with torch.no_grad():\n",
        "    pred = model(x)\n",
        "    predicted, actual = classes[pred[0].argmax(0)], classes[y] # pred[0].argmax(0) = pred.argmax(1)[0]\n",
        "    print(f'Predicted: \"{predicted}\", Actual: \"{actual}\"')"
      ]
    },
    {
      "cell_type": "markdown",
      "metadata": {},
      "source": [
        "Read more about [Saving & Loading your model](saveloadrun_tutorial.html).\n",
        "\n",
        "\n"
      ]
    },
    {
      "cell_type": "markdown",
      "metadata": {},
      "source": [
        "# 二、入门教程pytorch basic\n",
        "## tensor"
      ]
    },
    {
      "cell_type": "code",
      "execution_count": 3,
      "metadata": {
        "vscode": {
          "languageId": "python"
        }
      },
      "outputs": [
        {
          "name": "stdout",
          "output_type": "stream",
          "text": [
            "tensor([[1, 2],\n",
            "        [3, 4]])\n",
            "tensor([[1, 2],\n",
            "        [3, 4]])\n",
            "tensor([[1, 1],\n",
            "        [1, 1]])\n",
            "tensor([[0.4610, 0.6206],\n",
            "        [0.1566, 0.3326]])\n",
            "tensor([[0.1460, 0.5895, 0.6048],\n",
            "        [0.0745, 0.1240, 0.3872]])\n",
            "tensor([[1., 1., 1.],\n",
            "        [1., 1., 1.]])\n",
            "tensor([[0., 0., 0.],\n",
            "        [0., 0., 0.]])\n"
          ]
        }
      ],
      "source": [
        "#  In PyTorch, we use tensors to encode the inputs and outputs of a model, as well as the model’s parameters.\n",
        "import torch\n",
        "# Tensors are similar to NumPy’s ndarrays, except that tensors can run on GPUs,  optimized for automatic differentiation - Autograd \n",
        "# In fact, tensors and NumPy arrays can often share the same underlying memory(Tensors on the CPU), eliminating the need to copy data\n",
        "import numpy as np\n",
        "\n",
        "# 1. initializing a tensor\n",
        "# directly from data\n",
        "data = [[1,2], [3,4]]\n",
        "x_data = torch.tensor(data)\n",
        "print(x_data)\n",
        "\n",
        "# from a numpy array\n",
        "np_array = np.array(data)\n",
        "print(torch.from_numpy(np_array))\n",
        "\n",
        "# from another tensor\n",
        "x_ones = torch.ones_like(x_data)\n",
        "print(x_ones)\n",
        "x_rand = torch.rand_like(x_data, dtype=torch.float)\n",
        "print(x_rand)\n",
        "\n",
        "# with random or constant values\n",
        "shape = (2,3,)\n",
        "rand_tensor = torch.rand(shape)\n",
        "one_tensor = torch.ones(shape)\n",
        "zero_tensor = torch.zeros(shape)\n",
        "print(rand_tensor)\n",
        "print(one_tensor)\n",
        "print(zero_tensor)"
      ]
    },
    {
      "cell_type": "code",
      "execution_count": 4,
      "metadata": {
        "vscode": {
          "languageId": "python"
        }
      },
      "outputs": [
        {
          "name": "stdout",
          "output_type": "stream",
          "text": [
            "Shape of tensor: torch.Size([3, 4])\n",
            "Datatype of tensor: torch.float32\n",
            "Device tensor is store on: cuda:0\n"
          ]
        }
      ],
      "source": [
        "# 2. attributes of a tensor \n",
        "# tensor has other attribute such like: grad, grad_fn ...\n",
        "tensor = torch.rand(3, 4 ,device='cuda')\n",
        "print(f\"Shape of tensor: {tensor.shape}\")\n",
        "print(f\"Datatype of tensor: {tensor.dtype}\")\n",
        "print(f\"Device tensor is store on: {tensor.device}\")"
      ]
    },
    {
      "cell_type": "code",
      "execution_count": 5,
      "metadata": {
        "vscode": {
          "languageId": "python"
        }
      },
      "outputs": [
        {
          "name": "stdout",
          "output_type": "stream",
          "text": [
            "First row: tensor([1., 1., 1., 1.])\n",
            "First column: tensor([1., 1., 1., 1.])\n",
            "Last column: tensor([1., 1., 1., 1.])\n",
            "tensor([[1., 0., 1., 1.],\n",
            "        [1., 0., 1., 1.],\n",
            "        [1., 0., 1., 1.],\n",
            "        [1., 0., 1., 1.]])\n",
            "tensor([[1., 0., 1., 1., 1., 0., 1., 1., 1., 0., 1., 1.],\n",
            "        [1., 0., 1., 1., 1., 0., 1., 1., 1., 0., 1., 1.],\n",
            "        [1., 0., 1., 1., 1., 0., 1., 1., 1., 0., 1., 1.],\n",
            "        [1., 0., 1., 1., 1., 0., 1., 1., 1., 0., 1., 1.]])\n",
            "tensor([[1., 0., 1., 1.],\n",
            "        [1., 0., 1., 1.],\n",
            "        [1., 0., 1., 1.],\n",
            "        [1., 0., 1., 1.]])\n",
            "matrix multiplication\n",
            " tensor([[3., 3., 3., 3.],\n",
            "        [3., 3., 3., 3.],\n",
            "        [3., 3., 3., 3.],\n",
            "        [3., 3., 3., 3.]]) \n",
            " tensor([[3., 3., 3., 3.],\n",
            "        [3., 3., 3., 3.],\n",
            "        [3., 3., 3., 3.],\n",
            "        [3., 3., 3., 3.]]) \n",
            " tensor([[3., 3., 3., 3.],\n",
            "        [3., 3., 3., 3.],\n",
            "        [3., 3., 3., 3.],\n",
            "        [3., 3., 3., 3.]])\n"
          ]
        }
      ],
      "source": [
        "# 3. operations on tensor\n",
        "# move dtensor to gpu\n",
        "if torch.cuda.is_available():\n",
        "    tensor = tensor.to('cuda:0')\n",
        "\n",
        "# numpy-like indexing and slicing\n",
        "tensor = torch.ones(4,4)\n",
        "print(f'First row: {tensor[0]}')\n",
        "print(f'First column: {tensor[:,0]}')\n",
        "print(f'Last column: {tensor[..., -1]}')\n",
        "tensor[:,1] = 0\n",
        "print(tensor)\n",
        "\n",
        "# joining tensors\n",
        "t1 = torch.cat([tensor, tensor, tensor], dim=1)\n",
        "print(t1)\n",
        "\n",
        "# arithmetic operations\n",
        "# matrix multiplication\n",
        "y1 = tensor @ tensor.T\n",
        "y2 = tensor.matmul(tensor.T)\n",
        "\n",
        "y3 = torch.rand_like(tensor)\n",
        "torch.matmul(tensor, tensor.T, out=y3)\n",
        "\n",
        "print(tensor)\n",
        "print('matrix multiplication\\n', y1,'\\n', y2, '\\n', y3)"
      ]
    },
    {
      "cell_type": "code",
      "execution_count": 6,
      "metadata": {
        "vscode": {
          "languageId": "python"
        }
      },
      "outputs": [
        {
          "name": "stdout",
          "output_type": "stream",
          "text": [
            "tensor([[1., 0., 1., 1.],\n",
            "        [1., 0., 1., 1.],\n",
            "        [1., 0., 1., 1.],\n",
            "        [1., 0., 1., 1.]])\n",
            "element-wise product\n",
            " tensor([[1., 0., 1., 1.],\n",
            "        [1., 0., 1., 1.],\n",
            "        [1., 0., 1., 1.],\n",
            "        [1., 0., 1., 1.]]) \n",
            " tensor([[1., 0., 1., 1.],\n",
            "        [1., 0., 1., 1.],\n",
            "        [1., 0., 1., 1.],\n",
            "        [1., 0., 1., 1.]]) \n",
            " tensor([[1., 0., 1., 1.],\n",
            "        [1., 0., 1., 1.],\n",
            "        [1., 0., 1., 1.],\n",
            "        [1., 0., 1., 1.]])\n",
            "12.0 <class 'float'>\n",
            "tensor([[1., 0., 1., 1.],\n",
            "        [1., 0., 1., 1.],\n",
            "        [1., 0., 1., 1.],\n",
            "        [1., 0., 1., 1.]])\n",
            "\n",
            "tensor([[6., 5., 6., 6.],\n",
            "        [6., 5., 6., 6.],\n",
            "        [6., 5., 6., 6.],\n",
            "        [6., 5., 6., 6.]])\n"
          ]
        }
      ],
      "source": [
        "# element-wise product\n",
        "z1 = tensor * tensor\n",
        "z2 = tensor.mul(tensor)\n",
        "\n",
        "z3 = torch.rand_like(tensor)\n",
        "torch.mul(tensor, tensor, out=z3)\n",
        "\n",
        "print(tensor)\n",
        "print('element-wise product\\n', z1,'\\n', z2, '\\n', z3)\n",
        "\n",
        "# single-element tensors\n",
        "agg = tensor.sum()\n",
        "agg_item = agg.item()\n",
        "print(agg_item, type(agg_item))\n",
        "\n",
        "# inplace operations\n",
        "print(f'{tensor}\\n')\n",
        "tensor.add_(5)\n",
        "print(tensor)"
      ]
    },
    {
      "cell_type": "code",
      "execution_count": 7,
      "metadata": {
        "vscode": {
          "languageId": "python"
        }
      },
      "outputs": [
        {
          "name": "stdout",
          "output_type": "stream",
          "text": [
            "t: tensor([1., 1., 1., 1., 1.])\n",
            "n: [1. 1. 1. 1. 1.]\n",
            "t: tensor([2., 2., 2., 2., 2.])\n",
            "n: [2. 2. 2. 2. 2.]\n",
            "t: tensor([2., 2., 2., 2., 2.], dtype=torch.float64)\n",
            "n: [2. 2. 2. 2. 2.]\n"
          ]
        }
      ],
      "source": [
        "# 3.bridge with numpy (Tensors on the CPU)\n",
        "# tensor to numpy array\n",
        "t = torch.ones(5)\n",
        "print(f't: {t}')\n",
        "# t = t.to(\"cuda\") # 注意如果没有左侧的t=, 直接执行t.to(device)没有会导致gpu中的数据没有被变量引用\n",
        "# print(t.device)\n",
        "n = t.numpy() # TypeError: can't convert cuda:0 device type tensor to numpy. Use x = Tensor.cpu() to copy the tensor to host memory first.\n",
        "# print(t.device)\n",
        "print(f'n: {n}')\n",
        "\n",
        "# A change in the tensor reflects in the NumPy array.\n",
        "t.add_(1)\n",
        "print(f't: {t}')\n",
        "print(f'n: {n}')\n",
        "\n",
        "# numpy array to tensor\n",
        "n = np.ones(5)\n",
        "t= torch.from_numpy(n)\n",
        "\n",
        "np.add(n, 1, out=n)\n",
        "print(f\"t: {t}\")\n",
        "print(f\"n: {n}\") # when print, ndarray remove all commas(2023-2-1)"
      ]
    },
    {
      "cell_type": "markdown",
      "metadata": {},
      "source": [
        "## datasets & dataloaders"
      ]
    },
    {
      "cell_type": "code",
      "execution_count": 8,
      "metadata": {
        "vscode": {
          "languageId": "python"
        }
      },
      "outputs": [],
      "source": [
        "# dataset code to be decoupled from our model training code for better readability and modularity.\n",
        "# PyTorch provides two data primitives: torch.utils.data.DataLoader and .Dataset to preload data before traini\n",
        "# 1. loading a dataset\n",
        "import torch\n",
        "from torch.utils.data import Dataset\n",
        "from torchvision import datasets\n",
        "from torchvision.transforms import ToTensor\n",
        "import matplotlib.pyplot as plt\n",
        "\n",
        "training_data = datasets.FashionMNIST(\n",
        "    root=\"data\",\n",
        "    train=True,\n",
        "    download=True,\n",
        "    transform=ToTensor()\n",
        ")\n",
        "\n",
        "test_data = datasets.FashionMNIST(\n",
        "    root=\"data\",\n",
        "    train=False,\n",
        "    download=True,\n",
        "    transform=ToTensor()\n",
        ")"
      ]
    },
    {
      "cell_type": "code",
      "execution_count": 9,
      "metadata": {
        "vscode": {
          "languageId": "python"
        }
      },
      "outputs": [
        {
          "data": {
            "text/plain": [
              "<Figure size 576x576 with 0 Axes>"
            ]
          },
          "metadata": {},
          "output_type": "display_data"
        }
      ],
      "source": [
        "labels_map = {\n",
        "    0: \"T-Shirt\",\n",
        "    1: \"Trouser\",\n",
        "    2: \"Pullover\",\n",
        "    3: \"Dress\",\n",
        "    4: \"Coat\",\n",
        "    5: \"Sandal\",\n",
        "    6: \"Shirt\",\n",
        "    7: \"Sneaker\",\n",
        "    8: \"Bag\",\n",
        "    9: \"Ankle Boot\"\n",
        "}\n",
        "figure = plt.figure(figsize=(8,8))\n",
        "cols, rows = 3, 3"
      ]
    },
    {
      "cell_type": "code",
      "execution_count": 10,
      "metadata": {
        "vscode": {
          "languageId": "python"
        }
      },
      "outputs": [
        {
          "data": {
            "image/png": "[encoded data removed]",
            "text/plain": [
              "<Figure size 576x576 with 9 Axes>"
            ]
          },
          "metadata": {
            "needs_background": "light"
          },
          "output_type": "display_data"
        }
      ],
      "source": [
        "# 2. iterating and visualizing the dataset\n",
        "# plt: figure -> subplot -> plt -> axis,title,imshow\n",
        "labels_map = {\n",
        "    0: \"T-Shirt\",\n",
        "    1: \"Trouser\",\n",
        "    2: \"Pullover\",\n",
        "    3: \"Dress\",\n",
        "    4: \"Coat\",\n",
        "    5: \"Sandal\",\n",
        "    6: \"Shirt\",\n",
        "    7: \"Sneaker\",\n",
        "    8: \"Bag\",\n",
        "    9: \"Ankle Boot\",\n",
        "}\n",
        "figure = plt.figure(figsize=(8,8)) # Create a new figure, or activate an existing figure.\n",
        "cols, rows = 3, 3\n",
        "for i in range(1, cols * rows + 1): # subplot index from 1 not 0\n",
        "    sample_idx = torch.randint(len(training_data), size=(1,)).item() # tensor生成随机整数，用于抽样\n",
        "    img, label = training_data[sample_idx] # type: ignore # tuple unpack\n",
        "    figure.add_subplot(rows, cols, i) # Create a figure containing a single axes in position (rows, cols, i)\n",
        "    plt.title(labels_map[label])\n",
        "    plt.axis(\"off\")\n",
        "    plt.imshow(img.squeeze(), cmap=\"gray\")\n",
        "plt.show()\n",
        "# 我呆坐在椅子上，心想：不能吧。是的，不能不吃饭，路过的鸟儿善意提醒我。"
      ]
    },
    {
      "cell_type": "code",
      "execution_count": 11,
      "metadata": {
        "vscode": {
          "languageId": "python"
        }
      },
      "outputs": [],
      "source": [
        "# 3. creating a custom dataset for your files\n",
        "# A custom Dataset class must implement three functions: __init__, __len__, and __getitem__\n",
        "import os\n",
        "import pandas as pd\n",
        "from torchvision.io import read_image\n",
        "\n",
        "class CustomImageDataset(Dataset):\n",
        "    def __inin__(self, annotations_file, img__dir, transform=None, target_transform=None):\n",
        "        self.img_labels = pd.read_csv(annotations_file)\n",
        "        self.img_dir = img__dir\n",
        "        self.transform = transform\n",
        "        self.target_transform = target_transform\n",
        "\n",
        "    def __len__(self):\n",
        "        return len(self.img_labels)\n",
        "\n",
        "    def __getitem__(self, idx):\n",
        "        img_path = os.path.join(self.img_dir, self.img_labels.iloc[idx, 0])\n",
        "        image = read_image(img_path)\n",
        "        label = self.img_labels.iloc[idx, 1]\n",
        "        if self.transform:\n",
        "            image = self.transform(image)\n",
        "        if self.target_transform:\n",
        "            label = self.target_transform(label)\n",
        "        return image, label"
      ]
    },
    {
      "cell_type": "code",
      "execution_count": 12,
      "metadata": {
        "vscode": {
          "languageId": "python"
        }
      },
      "outputs": [],
      "source": [
        "# 4. preparing your data for training with dataloaders\n",
        "# The Dataset retrieves our dataset’s features and labels one(Dataset) sample at a time. While training a model, \n",
        "# we typically want to pass samples in “minibatches”(DataLoader), reshuffle the data at every epoch\n",
        "from torch.utils.data import DataLoader\n",
        "train_dataloader = DataLoader(training_data, batch_size=64, shuffle=True)\n",
        "test_dataloader = DataLoader(test_data, batch_size=64, shuffle=True)"
      ]
    },
    {
      "cell_type": "code",
      "execution_count": 13,
      "metadata": {
        "vscode": {
          "languageId": "python"
        }
      },
      "outputs": [
        {
          "name": "stdout",
          "output_type": "stream",
          "text": [
            "Feature batch shape: torch.Size([64, 1, 28, 28])\n",
            "Labels batch shape: torch.Size([64])\n"
          ]
        },
        {
          "data": {
            "image/png": "[encoded data removed]",
            "text/plain": [
              "<Figure size 432x288 with 1 Axes>"
            ]
          },
          "metadata": {
            "needs_background": "light"
          },
          "output_type": "display_data"
        },
        {
          "name": "stdout",
          "output_type": "stream",
          "text": [
            "Label: 3\n"
          ]
        }
      ],
      "source": [
        "# 5. iterate through the dataloader\n",
        "# Display image and label\n",
        "train_features, train_labels = next(iter(train_dataloader))\n",
        "print(f\"Feature batch shape: {train_features.size()}\")\n",
        "print(f\"Labels batch shape: {train_labels.size()}\")\n",
        "img = train_features[0].squeeze()\n",
        "label = train_labels[0]\n",
        "plt.imshow(img, cmap='gray')\n",
        "plt.show()\n",
        "print(f\"Label: {label}\")"
      ]
    },
    {
      "cell_type": "markdown",
      "metadata": {},
      "source": [
        "## transforms"
      ]
    },
    {
      "cell_type": "code",
      "execution_count": 67,
      "metadata": {
        "vscode": {
          "languageId": "python"
        }
      },
      "outputs": [],
      "source": [
        "# all torchvison datasets have two parameters: transform and traget_transform\n",
        "# use transforms to perform some manipulation of the data and make it suitable for training\n",
        "import torch\n",
        "from torchvision import datasets\n",
        "from torchvision.transforms import ToTensor, Lambda\n",
        "# Lambda transforms apply any user-defined lambda function\n",
        "\n",
        "ds = datasets.FashionMNIST(\n",
        "    root=\"data\",\n",
        "    train=True,\n",
        "    download=True,\n",
        "    transform=ToTensor(),\n",
        "    target_transform=Lambda(lambda y: torch.zeros(10, dtype=torch.float).scatter_(0, torch.tensor(y), value=1)) # int to one-hot\n",
        ")"
      ]
    },
    {
      "cell_type": "code",
      "execution_count": 68,
      "metadata": {
        "vscode": {
          "languageId": "python"
        }
      },
      "outputs": [
        {
          "name": "stdout",
          "output_type": "stream",
          "text": [
            "tensor([[0., 0., 0., 0., 1.],\n",
            "        [1., 0., 0., 0., 0.],\n",
            "        [0., 1., 0., 0., 0.],\n",
            "        [0., 0., 1., 0., 0.]])\n"
          ]
        },
        {
          "data": {
            "text/plain": [
              "<__main__.onehotScatter at 0x7f6d70bca2e0>"
            ]
          },
          "execution_count": 68,
          "metadata": {},
          "output_type": "execute_result"
        }
      ],
      "source": [
        "# torch.Tensor.scatter_()把标量的标签转换为one-hot编码\n",
        "class onehotScatter():\n",
        "    def __init__(self, batch_size=4, class_num=5, labels=torch.tensor([4,0,1,2])):\n",
        "        self.batch_size = batch_size\n",
        "        self.class_num = class_num\n",
        "        self.labels = torch.unsqueeze(labels, 1) # 扩展成二维\n",
        "        self.one_hot = torch.zeros(batch_size, class_num)\n",
        "        _dim = 1; _index_tensor = self.labels; _src = 1\n",
        "        self.one_hot.scatter_(_dim, _index_tensor, _src)\n",
        "        print(self.one_hot)\n",
        "\n",
        "onehotScatter()"
      ]
    },
    {
      "cell_type": "markdown",
      "metadata": {},
      "source": [
        "## build model"
      ]
    },
    {
      "cell_type": "code",
      "execution_count": 1,
      "metadata": {
        "vscode": {
          "languageId": "python"
        }
      },
      "outputs": [],
      "source": [
        "# build the neural network\n",
        "import os\n",
        "import torch\n",
        "from torch import nn\n",
        "from torch.utils.data import DataLoader\n",
        "from torchvision import datasets, transforms"
      ]
    },
    {
      "cell_type": "code",
      "execution_count": 2,
      "metadata": {
        "vscode": {
          "languageId": "python"
        }
      },
      "outputs": [
        {
          "name": "stdout",
          "output_type": "stream",
          "text": [
            "Using cuda device\n",
            "NeuralNetwork(\n",
            "  (faltten): Flatten(start_dim=1, end_dim=-1)\n",
            "  (linear_relu_stack): Sequential(\n",
            "    (0): Linear(in_features=784, out_features=512, bias=True)\n",
            "    (1): ReLU()\n",
            "    (2): Linear(in_features=512, out_features=512, bias=True)\n",
            "    (3): ReLU()\n",
            "    (4): Linear(in_features=512, out_features=10, bias=True)\n",
            "  )\n",
            ")\n",
            "torch.Size([1, 784])\n",
            "tensor([[-0.0848, -0.0506, -0.0014, -0.0202, -0.0349,  0.0420, -0.0501, -0.0389,\n",
            "          0.0633, -0.0192]], device='cuda:0', grad_fn=<AddmmBackward0>)\n",
            "tensor([[0.0936, 0.0968, 0.1017, 0.0998, 0.0984, 0.1062, 0.0969, 0.0980, 0.1085,\n",
            "         0.0999]], device='cuda:0', grad_fn=<SoftmaxBackward0>)\n",
            "Predicted class: tensor([8], device='cuda:0')\n"
          ]
        }
      ],
      "source": [
        "# 1. get device for training\n",
        "device = \"cuda\" if torch.cuda.is_available() else \"cpu\"\n",
        "print(f\"Using {device} device\")\n",
        "\n",
        "# 2. define the class, nn.Module is directly inherit from class 'object', not isinstance of tensor\n",
        "class NeuralNetwork(nn.Module):\n",
        "    def __init__(self):\n",
        "        super().__init__()\n",
        "        self.faltten = nn.Flatten() # start_dim: int = 1 end_dim=-1\n",
        "        self.linear_relu_stack = nn.Sequential(\n",
        "            nn.Linear(28*28, 512),\n",
        "            nn.ReLU(),\n",
        "            nn.Linear(512, 512),\n",
        "            nn.ReLU(),\n",
        "            nn.Linear(512, 10),\n",
        "        )\n",
        "\n",
        "    def forward(self, x):\n",
        "        x = self.faltten(x)\n",
        "        print(x.shape)\n",
        "        logits = self.linear_relu_stack(x)\n",
        "        return logits\n",
        "    \n",
        "# create an instance of NeuralNetwork and move to the device\n",
        "model = NeuralNetwork().to(device) # to() defined in nn.Module\n",
        "print(model) # __str__not exists, and execute nn.Module.__repr__()\n",
        "\n",
        "# to use the model, pass it the inpyt data, auto execute forward() returna raw predicted values\n",
        "X = torch.rand(1, 28, 28, device=device)\n",
        "logits = model(X) # 默认model.training=True\n",
        "print(logits)\n",
        "pred_probab = nn.Softmax(dim=1)(logits) # range [0,1] and sum to 1\n",
        "print(pred_probab)\n",
        "y_pred = pred_probab.argmax(1) # return index\n",
        "print(f\"Predicted class: {y_pred}\")"
      ]
    },
    {
      "cell_type": "code",
      "execution_count": 3,
      "metadata": {
        "vscode": {
          "languageId": "python"
        }
      },
      "outputs": [
        {
          "name": "stdout",
          "output_type": "stream",
          "text": [
            "torch.Size([3, 28, 28])\n",
            "torch.Size([3, 784])\n",
            "torch.Size([3, 20])\n",
            "Before ReLU: tensor([[-1.4547e-01, -2.1345e-01,  2.8351e-01,  8.4186e-04, -4.1900e-01,\n",
            "          2.9845e-01, -5.6992e-01,  2.9261e-01,  3.3209e-03, -1.4056e-01,\n",
            "          3.6584e-01,  2.0745e-01,  3.9022e-02,  4.3132e-01, -6.3633e-02,\n",
            "          7.8021e-01, -1.3780e-01,  1.1658e-01, -9.7171e-02, -3.3598e-01],\n",
            "        [ 9.8997e-02, -1.7489e-01,  1.2345e-01,  2.6564e-01, -4.4254e-02,\n",
            "          2.3046e-01, -1.4765e-01,  3.6650e-01, -2.6805e-02, -2.2589e-01,\n",
            "         -8.8113e-02,  5.5007e-01,  3.5191e-01,  4.1690e-01, -1.5945e-01,\n",
            "          8.8372e-01, -1.3807e-01, -3.4014e-02, -2.1347e-01, -4.9382e-01],\n",
            "        [-2.2000e-01, -1.3019e-01,  1.5604e-01,  3.5273e-01, -3.9375e-01,\n",
            "          6.6977e-02, -6.1013e-01, -3.6730e-02, -2.1297e-01,  1.7760e-01,\n",
            "          2.1652e-01, -3.5736e-02,  2.6910e-01,  3.8336e-01, -1.7345e-01,\n",
            "          5.0293e-01,  2.1078e-02, -9.9262e-02, -2.6981e-01, -2.5420e-01]],\n",
            "       grad_fn=<AddmmBackward0>)\n",
            "\n",
            "\n",
            "After ReLU: tensor([[0.0000e+00, 0.0000e+00, 2.8351e-01, 8.4186e-04, 0.0000e+00, 2.9845e-01,\n",
            "         0.0000e+00, 2.9261e-01, 3.3209e-03, 0.0000e+00, 3.6584e-01, 2.0745e-01,\n",
            "         3.9022e-02, 4.3132e-01, 0.0000e+00, 7.8021e-01, 0.0000e+00, 1.1658e-01,\n",
            "         0.0000e+00, 0.0000e+00],\n",
            "        [9.8997e-02, 0.0000e+00, 1.2345e-01, 2.6564e-01, 0.0000e+00, 2.3046e-01,\n",
            "         0.0000e+00, 3.6650e-01, 0.0000e+00, 0.0000e+00, 0.0000e+00, 5.5007e-01,\n",
            "         3.5191e-01, 4.1690e-01, 0.0000e+00, 8.8372e-01, 0.0000e+00, 0.0000e+00,\n",
            "         0.0000e+00, 0.0000e+00],\n",
            "        [0.0000e+00, 0.0000e+00, 1.5604e-01, 3.5273e-01, 0.0000e+00, 6.6977e-02,\n",
            "         0.0000e+00, 0.0000e+00, 0.0000e+00, 1.7760e-01, 2.1652e-01, 0.0000e+00,\n",
            "         2.6910e-01, 3.8336e-01, 0.0000e+00, 5.0293e-01, 2.1078e-02, 0.0000e+00,\n",
            "         0.0000e+00, 0.0000e+00]], grad_fn=<ReluBackward0>)\n",
            "\n",
            "\n"
          ]
        }
      ],
      "source": [
        "# 3. model layers\n",
        "\n",
        "# break down the layers in the model, a sample minibatch of 3 images of size 28x28\n",
        "# and see what happens to it as we pass it through the network\n",
        "input_images = torch.rand(3, 28, 28)\n",
        "print(input_images.size())\n",
        "\n",
        "# 3.1 nn.flatten\n",
        "flatten = nn.Flatten() # convert each 2D 28x28 image into a contiguous array of 784 pixel values, the minibatch dimension (at dim=0) is maintained\n",
        "flat_image = flatten(input_images)\n",
        "print(flat_image.size())\n",
        "\n",
        "# 3.2 nn.Linear\n",
        "layer1 = nn.Linear(in_features=28*28, out_features=20) # linear layer is a module that applies a linear transformation on the input\n",
        "hidden1 = layer1(flat_image)\n",
        "print(hidden1.size())\n",
        "\n",
        "# 3.3 nn.ReLU\n",
        "print(f\"Before ReLU: {hidden1}\\n\\n\")\n",
        "hidden1 = nn.ReLU()(hidden1) # introduce non-linearity in your model, use nn.ReLU between our linear layers,\n",
        "print(f\"After ReLU: {hidden1}\\n\\n\")\n",
        "\n",
        "# 3.4 nn.Sequential\n",
        "seq_modules = nn.Sequential(\n",
        "    flatten,\n",
        "    layer1,\n",
        "    nn.ReLU(),\n",
        "    nn.Linear(20, 10),\n",
        ")\n",
        "input_image = torch.rand(3,28,28)\n",
        "logits = seq_modules(input_image)\n",
        "\n",
        "# 3.5 nn.Softmax\n",
        "softmax = nn.Softmax(dim=1)\n",
        "pred_probab = softmax(logits)"
      ]
    },
    {
      "cell_type": "code",
      "execution_count": 4,
      "metadata": {
        "vscode": {
          "languageId": "python"
        }
      },
      "outputs": [
        {
          "name": "stdout",
          "output_type": "stream",
          "text": [
            "Model struct: NeuralNetwork(\n",
            "  (faltten): Flatten(start_dim=1, end_dim=-1)\n",
            "  (linear_relu_stack): Sequential(\n",
            "    (0): Linear(in_features=784, out_features=512, bias=True)\n",
            "    (1): ReLU()\n",
            "    (2): Linear(in_features=512, out_features=512, bias=True)\n",
            "    (3): ReLU()\n",
            "    (4): Linear(in_features=512, out_features=10, bias=True)\n",
            "  )\n",
            ")\n",
            "\n",
            "\n",
            "Layer: linear_relu_stack.0.weight | Size: torch.Size([512, 784]) | Values : tensor([[-0.0323, -0.0004,  0.0189,  ...,  0.0318, -0.0325, -0.0196],\n",
            "        [ 0.0156,  0.0330, -0.0120,  ..., -0.0228,  0.0067, -0.0039]],\n",
            "       device='cuda:0', grad_fn=<SliceBackward0>)\n",
            "\n",
            "Layer: linear_relu_stack.0.bias | Size: torch.Size([512]) | Values : tensor([-0.0211,  0.0005], device='cuda:0', grad_fn=<SliceBackward0>)\n",
            "\n",
            "Layer: linear_relu_stack.2.weight | Size: torch.Size([512, 512]) | Values : tensor([[-0.0012,  0.0402, -0.0061,  ...,  0.0432, -0.0376,  0.0102],\n",
            "        [ 0.0329,  0.0416, -0.0229,  ..., -0.0358, -0.0441,  0.0145]],\n",
            "       device='cuda:0', grad_fn=<SliceBackward0>)\n",
            "\n",
            "Layer: linear_relu_stack.2.bias | Size: torch.Size([512]) | Values : tensor([-0.0195, -0.0352], device='cuda:0', grad_fn=<SliceBackward0>)\n",
            "\n",
            "Layer: linear_relu_stack.4.weight | Size: torch.Size([10, 512]) | Values : tensor([[ 0.0257,  0.0263,  0.0177,  ..., -0.0261, -0.0100, -0.0036],\n",
            "        [-0.0246, -0.0396,  0.0274,  ...,  0.0088,  0.0116, -0.0003]],\n",
            "       device='cuda:0', grad_fn=<SliceBackward0>)\n",
            "\n",
            "Layer: linear_relu_stack.4.bias | Size: torch.Size([10]) | Values : tensor([-0.0274, -0.0412], device='cuda:0', grad_fn=<SliceBackward0>)\n",
            "\n"
          ]
        }
      ],
      "source": [
        "# 4. model parameters\n",
        "print(f\"Model struct: {model}\\n\\n\")\n",
        "\n",
        "for name, param in model.named_parameters():\n",
        "    print(f\"Layer: {name} | Size: {param.size()} | Values : {param[:2]}\\n\")"
      ]
    },
    {
      "cell_type": "markdown",
      "metadata": {},
      "source": [
        "## autograd"
      ]
    },
    {
      "cell_type": "code",
      "execution_count": 32,
      "metadata": {
        "vscode": {
          "languageId": "python"
        }
      },
      "outputs": [
        {
          "data": {
            "text/plain": [
              "(tensor([1., 1., 1., 1., 1.]),\n",
              " tensor([0., 0., 0.]),\n",
              " tensor([-2.9735,  1.3257,  1.1707], grad_fn=<AddBackward0>))"
            ]
          },
          "execution_count": 32,
          "metadata": {},
          "output_type": "execute_result"
        }
      ],
      "source": [
        "# In back propagation algorithm, parameters (model weights) are adjusted according to \n",
        "# the gradient of the loss function with respect to the given parameter.\n",
        "# automatic differentitatiom with torch.autograd for any computational graph\n",
        "\n",
        "# Consider the simplest one-layer neural network, with input x, parameters w and b, and some loss function\n",
        "import torch\n",
        "\n",
        "x = torch.ones(5) # input tensor\n",
        "y = torch.zeros(3) # expected output\n",
        "w = torch.randn(5, 3, requires_grad=True)\n",
        "b = torch.randn(3, requires_grad=True)\n",
        "z = torch.matmul(x, w) + b\n",
        "loss = torch.nn.functional.binary_cross_entropy_with_logits(z, y)\n",
        "x,y,z"
      ]
    },
    {
      "cell_type": "code",
      "execution_count": 25,
      "metadata": {
        "vscode": {
          "languageId": "python"
        }
      },
      "outputs": [
        {
          "data": {
            "text/plain": [
              "(tensor([[1., 1., 1.],\n",
              "         [1., 1., 1.],\n",
              "         [1., 1., 1.],\n",
              "         [1., 1., 1.],\n",
              "         [1., 1., 1.]]),\n",
              " tensor([1., 1., 1.]),\n",
              " <AddBackward0 at 0x7ff987593460>)"
            ]
          },
          "execution_count": 25,
          "metadata": {},
          "output_type": "execute_result"
        }
      ],
      "source": [
        "z.backward(torch.ones_like(z)) # 测试从中间节点执行backward()自动梯度\n",
        "w.grad, b.grad, z.grad_fn"
      ]
    },
    {
      "cell_type": "code",
      "execution_count": 28,
      "metadata": {
        "vscode": {
          "languageId": "python"
        }
      },
      "outputs": [
        {
          "data": {
            "text/plain": [
              "(tensor([0., 0., 0.]), tensor([0., 0., 0.]))"
            ]
          },
          "execution_count": 28,
          "metadata": {},
          "output_type": "execute_result"
        }
      ],
      "source": [
        "# 清空叶子节点梯度\n",
        "b.grad.zero_(), b.grad.zero_()"
      ]
    },
    {
      "cell_type": "code",
      "execution_count": 30,
      "metadata": {
        "vscode": {
          "languageId": "python"
        }
      },
      "outputs": [
        {
          "name": "stdout",
          "output_type": "stream",
          "text": [
            "Gradient function for z = <AddBackward0 object at 0x7ff987593460>\n",
            "Gradient function for loss = <BinaryCrossEntropyWithLogitsBackward0 object at 0x7ff9873a6b50>\n"
          ]
        }
      ],
      "source": [
        "# A function that we apply to tensors to construct computational graph is in fact an object of class Function. \n",
        "# This object knows how to compute the function in the forward direction, \n",
        "# and also how to compute its derivative during the backward propagation step\n",
        "\n",
        "# backward propagation function is stored in grad_fn property of a tensor\n",
        "print(f\"Gradient function for z = {z.grad_fn}\")\n",
        "print(f\"Gradient function for loss = {loss.grad_fn}\")"
      ]
    },
    {
      "cell_type": "code",
      "execution_count": 33,
      "metadata": {
        "vscode": {
          "languageId": "python"
        }
      },
      "outputs": [
        {
          "name": "stdout",
          "output_type": "stream",
          "text": [
            "tensor([[0.0162, 0.2634, 0.2544],\n",
            "        [0.0162, 0.2634, 0.2544],\n",
            "        [0.0162, 0.2634, 0.2544],\n",
            "        [0.0162, 0.2634, 0.2544],\n",
            "        [0.0162, 0.2634, 0.2544]])\n",
            "tensor([0.0162, 0.2634, 0.2544])\n"
          ]
        }
      ],
      "source": [
        "# compute the derivatives of our loss function with respect to parameters\n",
        "# to compute those derivatives, we call loss.backward(), and then retrieve the values from w.grad and b.grad\n",
        "loss.backward() # We can only perform gradient calculations using backward once on a given graph\n",
        "# If we need to do several backward calls on the same graph, pass retain_graph=True to the backward call\n",
        "print(w.grad)\n",
        "print(b.grad)"
      ]
    },
    {
      "cell_type": "code",
      "execution_count": 35,
      "metadata": {
        "vscode": {
          "languageId": "python"
        }
      },
      "outputs": [
        {
          "name": "stdout",
          "output_type": "stream",
          "text": [
            "True\n",
            "False\n"
          ]
        }
      ],
      "source": [
        "# diable gradient tracking:1.mark as frozen parameters -> z.detach()\n",
        "# 2. speed up computations when only doing forward pass -> with torch.no_grad():\n",
        "z = torch.matmul(x, w)+b\n",
        "print(z.requires_grad)\n",
        "# 所有依赖于叶子节点张量的张量，其 requires_grad 属性必定是 True 的，但其梯度值只在计算过程中被用到，\n",
        "# 不会最终存储到 grad 属性中。如果需要保留中间计算结果的梯度到 grad 属性中，可以使用 retain_grad 方法。 \n",
        "# 如果仅仅是为了调试代码查看梯度值，可以利用 register_hook 打印日志\n",
        "\n",
        "with torch.no_grad():\n",
        "    z = torch.matmul(x, w)+b\n",
        "print(z.requires_grad)"
      ]
    },
    {
      "cell_type": "code",
      "execution_count": 38,
      "metadata": {
        "vscode": {
          "languageId": "python"
        }
      },
      "outputs": [
        {
          "name": "stdout",
          "output_type": "stream",
          "text": [
            "False\n"
          ]
        }
      ],
      "source": [
        "z = torch.matmul(x, w)+b\n",
        "z_det = z.detach() # mark as frozen parameters stop gradient computing tracking\n",
        "print(z_det.requires_grad)"
      ]
    },
    {
      "cell_type": "code",
      "execution_count": 40,
      "metadata": {
        "vscode": {
          "languageId": "python"
        }
      },
      "outputs": [
        {
          "name": "stdout",
          "output_type": "stream",
          "text": [
            "First call\n",
            "tensor([[4., 2., 2., 2., 2.],\n",
            "        [2., 4., 2., 2., 2.],\n",
            "        [2., 2., 4., 2., 2.],\n",
            "        [2., 2., 2., 4., 2.]])\n",
            "\n",
            "Second call\n",
            "tensor([[8., 4., 4., 4., 4.],\n",
            "        [4., 8., 4., 4., 4.],\n",
            "        [4., 4., 8., 4., 4.],\n",
            "        [4., 4., 4., 8., 4.]])\n",
            "\n",
            "Third call\n",
            "tensor([[4., 2., 2., 2., 2.],\n",
            "        [2., 4., 2., 2., 2.],\n",
            "        [2., 2., 4., 2., 2.],\n",
            "        [2., 2., 2., 4., 2.]])\n"
          ]
        }
      ],
      "source": [
        "# More on Computational Graphs, DAGs are dynamic in PyTorch.\n",
        "# After each .backward() call, autograd starts populating a new graph\n",
        "# Tensor Gradients and Jacobian Products\n",
        "inp = torch.eye(4, 5, requires_grad=True)\n",
        "out = (inp+1).pow(2).t() # .t() transpose()二维简化版，转置二维张量\n",
        "out.backward(torch.ones_like(out), retain_graph=True) # compute Jacobian Product, 标量和张量的自动梯度backward\n",
        "# retain_graph=True 保持计算图\n",
        "print(f\"First call\\n{inp.grad}\")\n",
        "\n",
        "out.backward(torch.ones_like(out), retain_graph=True)\n",
        "print(f\"\\nSecond call\\n{inp.grad}\")  # when doing backward propagation, PyTorch accumulates the gradients\n",
        "\n",
        "inp.grad.zero_() # inp节点重置梯度值为0\n",
        "out.backward(torch.ones_like(out), retain_graph=True)\n",
        "print(f\"\\nThird call\\n{inp.grad}\")"
      ]
    },
    {
      "cell_type": "markdown",
      "metadata": {},
      "source": [
        "## optimization"
      ]
    },
    {
      "cell_type": "code",
      "execution_count": 47,
      "metadata": {
        "vscode": {
          "languageId": "python"
        }
      },
      "outputs": [],
      "source": [
        "# Prerequiste Code for data and model construction\n",
        "import torch\n",
        "from torch import nn\n",
        "from torch.utils.data import DataLoader\n",
        "from torchvision import datasets\n",
        "from torchvision.transforms import ToTensor\n",
        "\n",
        "training_data = datasets.FashionMNIST(\n",
        "    root=\"data\",\n",
        "    train=True,\n",
        "    download=True,\n",
        "    transform=ToTensor()\n",
        ")\n",
        "\n",
        "test_data = datasets.FashionMNIST(\n",
        "    root=\"data\",\n",
        "    train=False,\n",
        "    download=True,\n",
        "    transform=ToTensor()\n",
        ")\n",
        "\n",
        "train_dataloader = DataLoader(training_data, batch_size=64)\n",
        "test_dataloader = DataLoader(test_data, batch_size=64)\n",
        "\n",
        "class NeuralNetwork(nn.Module):\n",
        "    def __init__(self):\n",
        "        super(NeuralNetwork, self).__init__()\n",
        "        self.flatten = nn.Flatten()\n",
        "        self.linear_relu_stack = nn.Sequential(\n",
        "            nn.Linear(28*28, 512),\n",
        "            nn.ReLU(),\n",
        "            nn.Linear(512, 512),\n",
        "            nn.ReLU(),\n",
        "            nn.Linear(512, 10),\n",
        "        )\n",
        "\n",
        "    def forward(self, x):\n",
        "        x = self.flatten(x)\n",
        "        logits = self.linear_relu_stack(x)\n",
        "        return logits\n",
        "\n",
        "model = NeuralNetwork()"
      ]
    },
    {
      "cell_type": "code",
      "execution_count": 45,
      "metadata": {
        "vscode": {
          "languageId": "python"
        }
      },
      "outputs": [],
      "source": [
        "# Hyperparameters\n",
        "learning_rate = 1e-3\n",
        "batch_size = 64\n",
        "epochs = 5"
      ]
    },
    {
      "cell_type": "code",
      "execution_count": 42,
      "metadata": {
        "vscode": {
          "languageId": "python"
        }
      },
      "outputs": [],
      "source": [
        "# Initialize the loss function\n",
        "loss_fn = nn.CrossEntropyLoss()"
      ]
    },
    {
      "cell_type": "code",
      "execution_count": 46,
      "metadata": {
        "vscode": {
          "languageId": "python"
        }
      },
      "outputs": [],
      "source": [
        "# initialize the optimizer\n",
        "optimizer = torch.optim.SGD(model.parameters(), lr=learning_rate)"
      ]
    },
    {
      "cell_type": "code",
      "execution_count": 49,
      "metadata": {
        "vscode": {
          "languageId": "python"
        }
      },
      "outputs": [],
      "source": [
        "# Optimizer: optimization loop(epoch) -> training loop/validation or test loop -> batchsize to update parameters\n",
        "def train_loop(dataloader, model, loss_fn, optimizer):\n",
        "    size = len(dataloader.dataset)   \n",
        "    for batch, (X, y) in enumerate(dataloader):\n",
        "        # Compute prediction and loss\n",
        "        pred = model(X)\n",
        "        loss = loss_fn(pred, y)\n",
        "\n",
        "        # Backpropage\n",
        "        optimizer.zero_grad()\n",
        "        loss.backward()\n",
        "        optimizer.step()\n",
        "\n",
        "        if batch % 100 == 0:\n",
        "            loss, current = loss.item(), batch * len(X)\n",
        "            print(f\"loss: {loss:>7f}    [{current:>5d}/{size:>5d}]\")\n",
        "\n",
        "\n",
        "def test_loop(dataloader, model, loss_fn):\n",
        "    size = len(dataloader.dataset)\n",
        "    num_batches = len(dataloader)\n",
        "    test_loss, correct = 0, 0\n",
        "\n",
        "    with torch.no_grad():\n",
        "        for X, y in dataloader:\n",
        "            pred = model(X)\n",
        "            test_loss += loss_fn(pred, y).item()\n",
        "            correct += (pred.argmax(1) == y).type(torch.float).sum().item()\n",
        "\n",
        "    test_loss /= num_batches    # 计算每batch的平均损失Avg loss\n",
        "    correct /= size             # 计算%正确率\n",
        "    print(f\"Testor Error: \\n Accuracy: {(100*correct):>0.1f}%, Avg loss: {test_loss:>8f} \\n\")"
      ]
    },
    {
      "cell_type": "code",
      "execution_count": 50,
      "metadata": {
        "vscode": {
          "languageId": "python"
        }
      },
      "outputs": [
        {
          "name": "stdout",
          "output_type": "stream",
          "text": [
            "Epoch 1\n",
            "--------------------------------------\n",
            "loss: 2.301069    [    0/60000]\n",
            "loss: 2.286863    [ 6400/60000]\n",
            "loss: 2.269864    [12800/60000]\n",
            "loss: 2.263703    [19200/60000]\n",
            "loss: 2.238540    [25600/60000]\n",
            "loss: 2.212242    [32000/60000]\n",
            "loss: 2.223095    [38400/60000]\n",
            "loss: 2.192458    [44800/60000]\n",
            "loss: 2.196774    [51200/60000]\n",
            "loss: 2.145911    [57600/60000]\n",
            "Testor Error: \n",
            " Accuracy: 51.7, Avg loss: 2.145273 \n",
            "\n",
            "Epoch 2\n",
            "--------------------------------------\n",
            "loss: 2.162574    [    0/60000]\n",
            "loss: 2.148090    [ 6400/60000]\n",
            "loss: 2.096596    [12800/60000]\n",
            "loss: 2.106218    [19200/60000]\n",
            "loss: 2.054029    [25600/60000]\n",
            "loss: 1.997180    [32000/60000]\n",
            "loss: 2.028912    [38400/60000]\n",
            "loss: 1.956131    [44800/60000]\n",
            "loss: 1.970566    [51200/60000]\n",
            "loss: 1.873679    [57600/60000]\n",
            "Testor Error: \n",
            " Accuracy: 54.6, Avg loss: 1.878449 \n",
            "\n",
            "Epoch 3\n",
            "--------------------------------------\n",
            "loss: 1.923189    [    0/60000]\n",
            "loss: 1.885918    [ 6400/60000]\n",
            "loss: 1.778721    [12800/60000]\n",
            "loss: 1.804792    [19200/60000]\n",
            "loss: 1.698741    [25600/60000]\n",
            "loss: 1.652026    [32000/60000]\n",
            "loss: 1.675935    [38400/60000]\n",
            "loss: 1.582891    [44800/60000]\n",
            "loss: 1.606894    [51200/60000]\n",
            "loss: 1.486196    [57600/60000]\n",
            "Testor Error: \n",
            " Accuracy: 59.5, Avg loss: 1.509655 \n",
            "\n",
            "Epoch 4\n",
            "--------------------------------------\n",
            "loss: 1.582333    [    0/60000]\n",
            "loss: 1.544717    [ 6400/60000]\n",
            "loss: 1.402078    [12800/60000]\n",
            "loss: 1.460636    [19200/60000]\n",
            "loss: 1.343524    [25600/60000]\n",
            "loss: 1.340030    [32000/60000]\n",
            "loss: 1.357782    [38400/60000]\n",
            "loss: 1.284630    [44800/60000]\n",
            "loss: 1.310531    [51200/60000]\n",
            "loss: 1.212157    [57600/60000]\n",
            "Testor Error: \n",
            " Accuracy: 63.2, Avg loss: 1.239347 \n",
            "\n",
            "Epoch 5\n",
            "--------------------------------------\n",
            "loss: 1.314731    [    0/60000]\n",
            "loss: 1.301104    [ 6400/60000]\n",
            "loss: 1.138467    [12800/60000]\n",
            "loss: 1.237033    [19200/60000]\n",
            "loss: 1.111356    [25600/60000]\n",
            "loss: 1.138476    [32000/60000]\n",
            "loss: 1.166731    [38400/60000]\n",
            "loss: 1.104499    [44800/60000]\n",
            "loss: 1.131373    [51200/60000]\n",
            "loss: 1.056238    [57600/60000]\n",
            "Testor Error: \n",
            " Accuracy: 64.9, Avg loss: 1.075788 \n",
            "\n",
            "Epoch 6\n",
            "--------------------------------------\n",
            "loss: 1.142474    [    0/60000]\n",
            "loss: 1.151956    [ 6400/60000]\n",
            "loss: 0.969813    [12800/60000]\n",
            "loss: 1.100241    [19200/60000]\n",
            "loss: 0.971795    [25600/60000]\n",
            "loss: 1.008955    [32000/60000]\n",
            "loss: 1.053535    [38400/60000]\n",
            "loss: 0.995078    [44800/60000]\n",
            "loss: 1.019035    [51200/60000]\n",
            "loss: 0.960895    [57600/60000]\n",
            "Testor Error: \n",
            " Accuracy: 66.0, Avg loss: 0.972783 \n",
            "\n",
            "Epoch 7\n",
            "--------------------------------------\n",
            "loss: 1.027018    [    0/60000]\n",
            "loss: 1.057593    [ 6400/60000]\n",
            "loss: 0.857486    [12800/60000]\n",
            "loss: 1.010034    [19200/60000]\n",
            "loss: 0.885458    [25600/60000]\n",
            "loss: 0.920451    [32000/60000]\n",
            "loss: 0.981357    [38400/60000]\n",
            "loss: 0.925824    [44800/60000]\n",
            "loss: 0.942459    [51200/60000]\n",
            "loss: 0.896866    [57600/60000]\n",
            "Testor Error: \n",
            " Accuracy: 67.3, Avg loss: 0.903110 \n",
            "\n",
            "Epoch 8\n",
            "--------------------------------------\n",
            "loss: 0.943129    [    0/60000]\n",
            "loss: 0.992107    [ 6400/60000]\n",
            "loss: 0.778119    [12800/60000]\n",
            "loss: 0.945797    [19200/60000]\n",
            "loss: 0.828160    [25600/60000]\n",
            "loss: 0.856671    [32000/60000]\n",
            "loss: 0.930688    [38400/60000]\n",
            "loss: 0.879960    [44800/60000]\n",
            "loss: 0.887271    [51200/60000]\n",
            "loss: 0.850303    [57600/60000]\n",
            "Testor Error: \n",
            " Accuracy: 68.5, Avg loss: 0.852758 \n",
            "\n",
            "Epoch 9\n",
            "--------------------------------------\n",
            "loss: 0.878406    [    0/60000]\n",
            "loss: 0.942516    [ 6400/60000]\n",
            "loss: 0.719107    [12800/60000]\n",
            "loss: 0.897403    [19200/60000]\n",
            "loss: 0.787340    [25600/60000]\n",
            "loss: 0.808684    [32000/60000]\n",
            "loss: 0.891989    [38400/60000]\n",
            "loss: 0.847959    [44800/60000]\n",
            "loss: 0.845645    [51200/60000]\n",
            "loss: 0.814124    [57600/60000]\n",
            "Testor Error: \n",
            " Accuracy: 69.5, Avg loss: 0.814231 \n",
            "\n",
            "Epoch 10\n",
            "--------------------------------------\n",
            "loss: 0.826253    [    0/60000]\n",
            "loss: 0.902205    [ 6400/60000]\n",
            "loss: 0.673186    [12800/60000]\n",
            "loss: 0.859635    [19200/60000]\n",
            "loss: 0.756401    [25600/60000]\n",
            "loss: 0.771387    [32000/60000]\n",
            "loss: 0.860212    [38400/60000]\n",
            "loss: 0.824113    [44800/60000]\n",
            "loss: 0.812824    [51200/60000]\n",
            "loss: 0.784453    [57600/60000]\n",
            "Testor Error: \n",
            " Accuracy: 70.9, Avg loss: 0.783265 \n",
            "\n",
            "Done!\n"
          ]
        }
      ],
      "source": [
        "# initialize the loss function and optimizer, and pass it to train_loop and test_loop\n",
        "loss_fn = nn.CrossEntropyLoss()\n",
        "optimizer = torch.optim.SGD(model.parameters(), learning_rate)\n",
        "\n",
        "epochs = 10\n",
        "for t in range(epochs):\n",
        "    print(f\"Epoch {t+1}\\n--------------------------------------\")\n",
        "    train_loop(train_dataloader, model, loss_fn, optimizer)\n",
        "    test_loop(test_dataloader, model, loss_fn)\n",
        "print(\"Done!\")\n",
        "# Accuracy: 70.9%, Avg loss: 0.783265 (epoch=20)"
      ]
    },
    {
      "cell_type": "code",
      "execution_count": 52,
      "metadata": {
        "vscode": {
          "languageId": "python"
        }
      },
      "outputs": [],
      "source": [
        "# warmstarting a model using parameters of a different model.\n",
        "# set the strict argument to False in the load_state_dict() function to ignore non-matching keys\n",
        "\n",
        "# Import necessary libraries for loading our data\n",
        "import torch\n",
        "import torch.nn as nn\n",
        "import torch.optim as optim\n",
        "\n",
        "import torch.nn.functional as F"
      ]
    },
    {
      "cell_type": "code",
      "execution_count": 66,
      "metadata": {
        "vscode": {
          "languageId": "python"
        }
      },
      "outputs": [],
      "source": [
        "# Define and intialize the neural network A and B\n",
        "class NetA(nn.Module):\n",
        "    def __init__(self):\n",
        "        super(NetA, self).__init__()\n",
        "        self.conv1 = nn.Conv2d(3, 6, 5)\n",
        "        self.pool = nn.MaxPool2d(2, 2)\n",
        "        self.conv2 = nn.Conv2d(6, 16, 5)\n",
        "        self.fc1 = nn.Linear(16 * 5 * 5, 120)\n",
        "        self.fc2 = nn.Linear(120, 84)\n",
        "        self.fc3 = nn.Linear(84, 10)\n",
        "\n",
        "    def forward(self, x):\n",
        "        x = self.pool(F.relu(self.conv1(x)))\n",
        "        x = self.pool(F.relu(self.conv2(x)))\n",
        "        x = x.view(-1, 16 * 5 * 5)\n",
        "        x = F.relu(self.fc1(x))\n",
        "        x = F.relu(self.fc2(x))\n",
        "        x = self.fc3(x)\n",
        "        return x\n",
        "\n",
        "netA = NetA()\n",
        "\n",
        "class NetB(nn.Module):\n",
        "    def __init__(self):\n",
        "        super(NetB, self).__init__()\n",
        "        self.conv1 = nn.Conv2d(3, 6, 5)\n",
        "        self.pool = nn.MaxPool2d(2, 2)\n",
        "        self.conv2 = nn.Conv2d(6, 16, 5)\n",
        "        self.fc1 = nn.Linear(16 * 5 * 5, 120)\n",
        "        self.fc2 = nn.Linear(120, 84)\n",
        "        # self.fc3 = nn.Linear(84, 10)\n",
        "\n",
        "    def forward(self, x):\n",
        "        x = self.pool(F.relu(self.conv1(x)))\n",
        "        x = self.pool(F.relu(self.conv2(x)))\n",
        "        x = x.view(-1, 16 * 5 * 5)\n",
        "        x = F.relu(self.fc1(x))\n",
        "        x = F.relu(self.fc2(x))\n",
        "        # x = self.fc3(x)\n",
        "        return x\n",
        "\n",
        "netB = NetB()"
      ]
    },
    {
      "cell_type": "code",
      "execution_count": 23,
      "metadata": {
        "vscode": {
          "languageId": "python"
        }
      },
      "outputs": [],
      "source": [
        "from torch.utils.tensorboard import SummaryWriter\n",
        "#在tensorboard中查看模型\n",
        "writer = SummaryWriter('./data/tensorboard')\n",
        "writer.add_graph(model, input_to_model = torch.randn(1,3,32,32)\n",
        "writer.close()"
      ]
    },
    {
      "cell_type": "code",
      "execution_count": 22,
      "metadata": {
        "vscode": {
          "languageId": "python"
        }
      },
      "outputs": [
        {
          "data": {
            "text/plain": [
              "tensor([[-0.3643,  1.4855,  0.5947, -0.9331],\n",
              "        [-1.0596, -0.3479, -1.4613, -0.3209]])"
            ]
          },
          "execution_count": 22,
          "metadata": {},
          "output_type": "execute_result"
        }
      ],
      "source": [
        "torch.randn((2,4))"
      ]
    },
    {
      "cell_type": "code",
      "execution_count": 67,
      "metadata": {
        "vscode": {
          "languageId": "python"
        }
      },
      "outputs": [],
      "source": [
        "# Save model A\n",
        "# Specify a path to save to\n",
        "PATH = \"model_NetA.pt\"\n",
        "\n",
        "torch.save(netA.state_dict(), PATH)"
      ]
    },
    {
      "cell_type": "code",
      "execution_count": 68,
      "metadata": {
        "vscode": {
          "languageId": "python"
        }
      },
      "outputs": [
        {
          "data": {
            "text/plain": [
              "_IncompatibleKeys(missing_keys=[], unexpected_keys=['fc3.weight', 'fc3.bias'])"
            ]
          },
          "execution_count": 68,
          "metadata": {},
          "output_type": "execute_result"
        }
      ],
      "source": [
        "#  Load into model B\n",
        "netB.load_state_dict(torch.load(PATH), strict=False)"
      ]
    },
    {
      "cell_type": "code",
      "execution_count": 85,
      "metadata": {
        "vscode": {
          "languageId": "python"
        }
      },
      "outputs": [],
      "source": [
        "# visualize netA in netron\n",
        "netaJit = torch.jit.script(netA)     # need transform to torchscript\n",
        "netaJit.save(\"netaJit.pth\")"
      ]
    },
    {
      "cell_type": "code",
      "execution_count": 84,
      "metadata": {
        "vscode": {
          "languageId": "python"
        }
      },
      "outputs": [],
      "source": [
        "class NetronTest(nn.Module):\n",
        "    def __init__(self):\n",
        "        super(NetronTest, self).__init__()        \n",
        "\n",
        "    def forward(self, x): \n",
        "        x = x * 2 \n",
        "        x.add_(0) \n",
        "        x = x.view(-1) \n",
        "        if x[0] > 1: \n",
        "            return x[0] \n",
        "        else: \n",
        "            return x[-1]\n",
        "\n",
        "netronTest = NetronTest()   # netronTest.state_dict() is empty, cannot recognized by netron directly\n",
        "jit_script_model = torch.jit.script(netronTest)     # need transform to torchscript\n",
        "jit_script_model.save(\"netronTestJit.pth\")\n",
        "# then upload file \"netronTestJit.pth\" to netron website: https://netron.app/, for visualization"
      ]
    },
    {
      "cell_type": "markdown",
      "metadata": {},
      "source": [
        "## save and load the model"
      ]
    },
    {
      "cell_type": "code",
      "execution_count": 88,
      "metadata": {
        "vscode": {
          "languageId": "python"
        }
      },
      "outputs": [],
      "source": [
        "# persist model state with saving\n",
        "import torch\n",
        "import torchvision.models as models"
      ]
    },
    {
      "cell_type": "code",
      "execution_count": 89,
      "metadata": {
        "vscode": {
          "languageId": "python"
        }
      },
      "outputs": [
        {
          "name": "stderr",
          "output_type": "stream",
          "text": [
            "Downloading: \"https://download.pytorch.org/models/vgg16-397923af.pth\" to /home/zhoujiaming/.cache/torch/hub/checkpoints/vgg16-397923af.pth\n",
            "100.0%\n"
          ]
        }
      ],
      "source": [
        "model = models.vgg16(pretrained=True)\n",
        "# learned parameters in an internal state dictionary, called state_dict\n",
        "torch.save(model.state_dict(), \"model_weights.pth\")"
      ]
    },
    {
      "cell_type": "code",
      "execution_count": 90,
      "metadata": {
        "vscode": {
          "languageId": "python"
        }
      },
      "outputs": [
        {
          "data": {
            "text/plain": [
              "VGG(\n",
              "  (features): Sequential(\n",
              "    (0): Conv2d(3, 64, kernel_size=(3, 3), stride=(1, 1), padding=(1, 1))\n",
              "    (1): ReLU(inplace=True)\n",
              "    (2): Conv2d(64, 64, kernel_size=(3, 3), stride=(1, 1), padding=(1, 1))\n",
              "    (3): ReLU(inplace=True)\n",
              "    (4): MaxPool2d(kernel_size=2, stride=2, padding=0, dilation=1, ceil_mode=False)\n",
              "    (5): Conv2d(64, 128, kernel_size=(3, 3), stride=(1, 1), padding=(1, 1))\n",
              "    (6): ReLU(inplace=True)\n",
              "    (7): Conv2d(128, 128, kernel_size=(3, 3), stride=(1, 1), padding=(1, 1))\n",
              "    (8): ReLU(inplace=True)\n",
              "    (9): MaxPool2d(kernel_size=2, stride=2, padding=0, dilation=1, ceil_mode=False)\n",
              "    (10): Conv2d(128, 256, kernel_size=(3, 3), stride=(1, 1), padding=(1, 1))\n",
              "    (11): ReLU(inplace=True)\n",
              "    (12): Conv2d(256, 256, kernel_size=(3, 3), stride=(1, 1), padding=(1, 1))\n",
              "    (13): ReLU(inplace=True)\n",
              "    (14): Conv2d(256, 256, kernel_size=(3, 3), stride=(1, 1), padding=(1, 1))\n",
              "    (15): ReLU(inplace=True)\n",
              "    (16): MaxPool2d(kernel_size=2, stride=2, padding=0, dilation=1, ceil_mode=False)\n",
              "    (17): Conv2d(256, 512, kernel_size=(3, 3), stride=(1, 1), padding=(1, 1))\n",
              "    (18): ReLU(inplace=True)\n",
              "    (19): Conv2d(512, 512, kernel_size=(3, 3), stride=(1, 1), padding=(1, 1))\n",
              "    (20): ReLU(inplace=True)\n",
              "    (21): Conv2d(512, 512, kernel_size=(3, 3), stride=(1, 1), padding=(1, 1))\n",
              "    (22): ReLU(inplace=True)\n",
              "    (23): MaxPool2d(kernel_size=2, stride=2, padding=0, dilation=1, ceil_mode=False)\n",
              "    (24): Conv2d(512, 512, kernel_size=(3, 3), stride=(1, 1), padding=(1, 1))\n",
              "    (25): ReLU(inplace=True)\n",
              "    (26): Conv2d(512, 512, kernel_size=(3, 3), stride=(1, 1), padding=(1, 1))\n",
              "    (27): ReLU(inplace=True)\n",
              "    (28): Conv2d(512, 512, kernel_size=(3, 3), stride=(1, 1), padding=(1, 1))\n",
              "    (29): ReLU(inplace=True)\n",
              "    (30): MaxPool2d(kernel_size=2, stride=2, padding=0, dilation=1, ceil_mode=False)\n",
              "  )\n",
              "  (avgpool): AdaptiveAvgPool2d(output_size=(7, 7))\n",
              "  (classifier): Sequential(\n",
              "    (0): Linear(in_features=25088, out_features=4096, bias=True)\n",
              "    (1): ReLU(inplace=True)\n",
              "    (2): Dropout(p=0.5, inplace=False)\n",
              "    (3): Linear(in_features=4096, out_features=4096, bias=True)\n",
              "    (4): ReLU(inplace=True)\n",
              "    (5): Dropout(p=0.5, inplace=False)\n",
              "    (6): Linear(in_features=4096, out_features=1000, bias=True)\n",
              "  )\n",
              ")"
            ]
          },
          "execution_count": 90,
          "metadata": {},
          "output_type": "execute_result"
        }
      ],
      "source": [
        "# To load model weights, you need to create an instance of the same model first, and then load the parameters \n",
        "model = models.vgg16() # we do not specify pretrained=True, i.e. do not load default weights\n",
        "model.load_state_dict(torch.load('model_weights.pth'))\n",
        "model.eval() # all model.eval() method before inferencing to set the dropout and batch normalization layers to evaluation mode."
      ]
    },
    {
      "cell_type": "code",
      "execution_count": 91,
      "metadata": {
        "vscode": {
          "languageId": "python"
        }
      },
      "outputs": [],
      "source": [
        "# Saving and Loading Models with Shapes\n",
        "# want to save the structure of this class together with the model, pass model (and not model.state_dict()) to the saving function\n",
        "torch.save(model, \"model_save.pth\")\n",
        "\n",
        "# load the model\n",
        "model = torch.load(\"model_save.pth\")\n",
        "# This approach uses Python pickle module when serializing the model, \n",
        "# thus it relies on the actual class definition to be available when loading the model."
      ]
    },
    {
      "cell_type": "markdown",
      "metadata": {},
      "source": [
        "## end at 2023-2-5 22:29:42"
      ]
    }
  ],
  "metadata": {
    "kernelspec": {
      "display_name": "Python [conda env:cdconv]",
      "language": "python",
      "name": "conda-env-cdconv-py"
    },
    "vscode": {
      "interpreter": {
        "hash": "fcfb5a621c0edbf786756912908d3d80a2726106c02d9512755c0aff2e95f196"
      }
    }
  },
  "nbformat": 4,
  "nbformat_minor": 0
}
