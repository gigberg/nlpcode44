{
 "cells": [
  {
   "cell_type": "code",
   "execution_count": 1,
   "metadata": {
    "tags": []
   },
   "outputs": [
    {
     "data": {
      "text/plain": [
       "'1.10.1'"
      ]
     },
     "execution_count": 1,
     "metadata": {},
     "output_type": "execute_result"
    }
   ],
   "source": [
    "import torch\n",
    "torch.__version__"
   ]
  },
  {
   "cell_type": "code",
   "execution_count": 1,
   "metadata": {},
   "outputs": [
    {
     "name": "stdout",
     "output_type": "stream",
     "text": [
      "Epoch[20/1000], loss: 0.547730\n",
      "Epoch[40/1000], loss: 0.540106\n",
      "Epoch[60/1000], loss: 0.534612\n",
      "Epoch[80/1000], loss: 0.530623\n",
      "Epoch[100/1000], loss: 0.527697\n",
      "Epoch[120/1000], loss: 0.525524\n",
      "Epoch[140/1000], loss: 0.523882\n",
      "Epoch[160/1000], loss: 0.522616\n",
      "Epoch[180/1000], loss: 0.521616\n",
      "Epoch[200/1000], loss: 0.520803\n",
      "Epoch[220/1000], loss: 0.520124\n",
      "Epoch[240/1000], loss: 0.519538\n",
      "Epoch[260/1000], loss: 0.519019\n",
      "Epoch[280/1000], loss: 0.518547\n",
      "Epoch[300/1000], loss: 0.518109\n",
      "Epoch[320/1000], loss: 0.517694\n",
      "Epoch[340/1000], loss: 0.517297\n",
      "Epoch[360/1000], loss: 0.516911\n",
      "Epoch[380/1000], loss: 0.516534\n",
      "Epoch[400/1000], loss: 0.516163\n",
      "Epoch[420/1000], loss: 0.515796\n",
      "Epoch[440/1000], loss: 0.515433\n",
      "Epoch[460/1000], loss: 0.515073\n",
      "Epoch[480/1000], loss: 0.514714\n",
      "Epoch[500/1000], loss: 0.514356\n",
      "Epoch[520/1000], loss: 0.514000\n",
      "Epoch[540/1000], loss: 0.513644\n",
      "Epoch[560/1000], loss: 0.513289\n",
      "Epoch[580/1000], loss: 0.512935\n",
      "Epoch[600/1000], loss: 0.512581\n",
      "Epoch[620/1000], loss: 0.512228\n",
      "Epoch[640/1000], loss: 0.511875\n",
      "Epoch[660/1000], loss: 0.511523\n",
      "Epoch[680/1000], loss: 0.511171\n",
      "Epoch[700/1000], loss: 0.510819\n",
      "Epoch[720/1000], loss: 0.510468\n",
      "Epoch[740/1000], loss: 0.510117\n",
      "Epoch[760/1000], loss: 0.509767\n",
      "Epoch[780/1000], loss: 0.509417\n",
      "Epoch[800/1000], loss: 0.509067\n",
      "Epoch[820/1000], loss: 0.508718\n",
      "Epoch[840/1000], loss: 0.508369\n",
      "Epoch[860/1000], loss: 0.508021\n",
      "Epoch[880/1000], loss: 0.507673\n",
      "Epoch[900/1000], loss: 0.507325\n",
      "Epoch[920/1000], loss: 0.506977\n",
      "Epoch[940/1000], loss: 0.506630\n",
      "Epoch[960/1000], loss: 0.506283\n",
      "Epoch[980/1000], loss: 0.505937\n",
      "Epoch[1000/1000], loss: 0.505591\n"
     ]
    },
    {
     "data": {
      "image/png": "[encoded data removed]",
      "text/plain": [
       "<Figure size 720x360 with 1 Axes>"
      ]
     },
     "metadata": {
      "needs_background": "light"
     },
     "output_type": "display_data"
    }
   ],
   "source": [
    "# encoding: utf-8\n",
    "\"\"\"\n",
    "@author:  liaoxingyu\n",
    "@contact: sherlockliao01@gmail.com\n",
    "\"\"\"\n",
    "\n",
    "import matplotlib.pyplot as plt\n",
    "import numpy as np\n",
    "import torch\n",
    "from torch import nn\n",
    "from torch.autograd import Variable\n",
    "\n",
    "x_train = np.array([[3.3], [4.4], [5.5], [6.71], [6.93], [4.168],\n",
    "                    [9.779], [6.182], [7.59], [2.167], [7.042],\n",
    "                    [10.791], [5.313], [7.997], [3.1]], dtype=np.float32)\n",
    "\n",
    "y_train = np.array([[1.7], [2.76], [2.09], [3.19], [1.694], [1.573],\n",
    "                    [3.366], [2.596], [2.53], [1.221], [2.827],\n",
    "                    [3.465], [1.65], [2.904], [1.3]], dtype=np.float32)\n",
    "\n",
    "\n",
    "x_train = torch.from_numpy(x_train)\n",
    "\n",
    "y_train = torch.from_numpy(y_train)\n",
    "\n",
    "\n",
    "# Linear Regression Model\n",
    "class linearRegression(nn.Module):\n",
    "    def __init__(self):\n",
    "        super(linearRegression, self).__init__()\n",
    "        self.linear = nn.Linear(1, 1)  # input and output is 1 dimension\n",
    "\n",
    "    def forward(self, x):\n",
    "        out = self.linear(x)\n",
    "        return out\n",
    "\n",
    "\n",
    "model = linearRegression()\n",
    "# 定义loss和优化函数\n",
    "criterion = nn.MSELoss()\n",
    "optimizer = torch.optim.SGD(model.parameters(), lr=1e-4)\n",
    "\n",
    "# 开始训练\n",
    "num_epochs = 1000\n",
    "for epoch in range(num_epochs):\n",
    "    inputs = x_train\n",
    "    target = y_train\n",
    "\n",
    "    # forward\n",
    "    out = model(inputs)\n",
    "    loss = criterion(out, target)\n",
    "    # backward\n",
    "    optimizer.zero_grad()\n",
    "    loss.backward()\n",
    "    optimizer.step()\n",
    "\n",
    "    if (epoch+1) % 20 == 0:\n",
    "        print(f'Epoch[{epoch+1}/{num_epochs}], loss: {loss.item():.6f}')\n",
    "\n",
    "model.eval()\n",
    "with torch.no_grad():\n",
    "    predict = model(x_train)\n",
    "predict = predict.data.numpy()\n",
    "\n",
    "fig = plt.figure(figsize=(10, 5))\n",
    "plt.plot(x_train.numpy(), y_train.numpy(), 'ro', label='Original data')\n",
    "plt.plot(x_train.numpy(), predict, label='Fitting Line')\n",
    "# 显示图例\n",
    "plt.legend() \n",
    "plt.show()\n",
    "\n",
    "# 保存模型\n",
    "torch.save(model.state_dict(), './linear.pth')"
   ]
  },
  {
   "cell_type": "code",
   "execution_count": 1,
   "metadata": {},
   "outputs": [
    {
     "name": "stderr",
     "output_type": "stream",
     "text": [
      "usage: ipykernel_launcher.py [-h] echo\n",
      "ipykernel_launcher.py: error: the following arguments are required: echo\n"
     ]
    },
    {
     "ename": "SystemExit",
     "evalue": "2",
     "output_type": "error",
     "traceback": [
      "An exception has occurred, use %tb to see the full traceback.\n",
      "\u001b[0;31mSystemExit\u001b[0m\u001b[0;31m:\u001b[0m 2\n"
     ]
    },
    {
     "name": "stderr",
     "output_type": "stream",
     "text": [
      "/home/zhoujiaming/anaconda3/envs/torch190/lib/python3.9/site-packages/IPython/core/interactiveshell.py:3452: UserWarning: To exit: use 'exit', 'quit', or Ctrl-D.\n",
      "  warn(\"To exit: use 'exit', 'quit', or Ctrl-D.\", stacklevel=1)\n"
     ]
    }
   ],
   "source": [
    "import argparse\n",
    "parser = argparse.ArgumentParser()\n",
    "parser.add_argument('echo')\n",
    "args = parser.parse_args()\n",
    "print(args.echo)"
   ]
  },
  {
   "cell_type": "code",
   "execution_count": 3,
   "metadata": {},
   "outputs": [
    {
     "name": "stderr",
     "output_type": "stream",
     "text": [
      "usage: ipykernel_launcher.py [-h]\n",
      "ipykernel_launcher.py: error: unrecognized arguments: --ip=127.0.0.1 --stdin=9018 --control=9016 --hb=9015 --Session.signature_scheme=\"hmac-sha256\" --Session.key=b\"ccbaf372-1cd6-412b-8d5a-f6a36b84fa3e\" --shell=9017 --transport=\"tcp\" --iopub=9019 --f=/tmp/tmp-414725tLpu4mlfUPkf.json\n"
     ]
    },
    {
     "ename": "SystemExit",
     "evalue": "2",
     "output_type": "error",
     "traceback": [
      "An exception has occurred, use %tb to see the full traceback.\n",
      "\u001b[0;31mSystemExit\u001b[0m\u001b[0;31m:\u001b[0m 2\n"
     ]
    }
   ],
   "source": [
    "help(argparse.ArgumentParser().parse_args())"
   ]
  },
  {
   "cell_type": "code",
   "execution_count": 1,
   "metadata": {},
   "outputs": [
    {
     "data": {
      "text/plain": [
       "[1, 2, 1, 2]"
      ]
     },
     "execution_count": 1,
     "metadata": {},
     "output_type": "execute_result"
    }
   ],
   "source": []
  },
  {
   "cell_type": "code",
   "execution_count": 5,
   "metadata": {},
   "outputs": [
    {
     "ename": "TypeError",
     "evalue": "type() takes 1 or 3 arguments",
     "output_type": "error",
     "traceback": [
      "\u001b[0;31m---------------------------------------------------------------------------\u001b[0m",
      "\u001b[0;31mTypeError\u001b[0m                                 Traceback (most recent call last)",
      "\u001b[0;32m/tmp/ipykernel_452556/3150098464.py\u001b[0m in \u001b[0;36m<module>\u001b[0;34m\u001b[0m\n\u001b[0;32m----> 1\u001b[0;31m \u001b[0mtype\u001b[0m\u001b[0;34m(\u001b[0m\u001b[0;36m2\u001b[0m\u001b[0;34m,\u001b[0m\u001b[0;36m3\u001b[0m\u001b[0;34m)\u001b[0m\u001b[0;34m\u001b[0m\u001b[0;34m\u001b[0m\u001b[0m\n\u001b[0m",
      "\u001b[0;31mTypeError\u001b[0m: type() takes 1 or 3 arguments"
     ]
    }
   ],
   "source": []
  },
  {
   "cell_type": "code",
   "execution_count": 6,
   "metadata": {},
   "outputs": [
    {
     "data": {
      "text/plain": [
       "<function dict.clear>"
      ]
     },
     "execution_count": 6,
     "metadata": {},
     "output_type": "execute_result"
    }
   ],
   "source": [
    "{1:2}.clear"
   ]
  },
  {
   "cell_type": "code",
   "execution_count": 7,
   "metadata": {},
   "outputs": [],
   "source": [
    "a={1:2}"
   ]
  },
  {
   "cell_type": "code",
   "execution_count": 8,
   "metadata": {},
   "outputs": [],
   "source": [
    "a.clear()"
   ]
  },
  {
   "cell_type": "code",
   "execution_count": 9,
   "metadata": {},
   "outputs": [
    {
     "data": {
      "text/plain": [
       "{}"
      ]
     },
     "execution_count": 9,
     "metadata": {},
     "output_type": "execute_result"
    }
   ],
   "source": [
    "a"
   ]
  },
  {
   "cell_type": "code",
   "execution_count": 14,
   "metadata": {},
   "outputs": [
    {
     "name": "stdout",
     "output_type": "stream",
     "text": [
      "__new__(): <class '__main__.demoClass'> ('abc',) {}\n",
      "__init__(): <__main__.demoClass object at 0x7fc0c5113370> abc\n",
      "__new__(): <class '__main__.demoClass'> ('xyz',) {}\n",
      "__init__(): <__main__.demoClass object at 0x7fc0c5a29850> xyz\n",
      "0 2\n",
      "1 2\n"
     ]
    }
   ],
   "source": [
    "class demoClass():\n",
    "    instances_created = 0\n",
    "    def __new__(cls,*args,**kwargs):\n",
    "        print(\"__new__():\",cls,args,kwargs)\n",
    "        instance = super().__new__(cls)\n",
    "        instance.number = cls.instances_created\n",
    "        cls.instances_created += 1\n",
    "        return instance\n",
    "    def __init__(self,attribute):\n",
    "        print(\"__init__():\",self,attribute)\n",
    "        self.attribute = attribute\n",
    "test1 = demoClass(\"abc\")\n",
    "test2 = demoClass(\"xyz\")\n",
    "print(test1.number,test1.instances_created)\n",
    "print(test2.number,test2.instances_created)"
   ]
  },
  {
   "cell_type": "code",
   "execution_count": 11,
   "metadata": {},
   "outputs": [
    {
     "data": {
      "text/plain": [
       "type"
      ]
     },
     "execution_count": 11,
     "metadata": {},
     "output_type": "execute_result"
    }
   ],
   "source": [
    "type(demoClass)"
   ]
  },
  {
   "cell_type": "code",
   "execution_count": 15,
   "metadata": {},
   "outputs": [
    {
     "ename": "NameError",
     "evalue": "name 'container' is not defined",
     "output_type": "error",
     "traceback": [
      "\u001b[0;31m---------------------------------------------------------------------------\u001b[0m",
      "\u001b[0;31mNameError\u001b[0m                                 Traceback (most recent call last)",
      "\u001b[0;32m/tmp/ipykernel_452556/1208169489.py\u001b[0m in \u001b[0;36m<module>\u001b[0;34m\u001b[0m\n\u001b[0;32m----> 1\u001b[0;31m \u001b[0mcontainer\u001b[0m\u001b[0;34m\u001b[0m\u001b[0;34m\u001b[0m\u001b[0m\n\u001b[0m",
      "\u001b[0;31mNameError\u001b[0m: name 'container' is not defined"
     ]
    }
   ],
   "source": [
    "container "
   ]
  },
  {
   "cell_type": "code",
   "execution_count": 19,
   "metadata": {},
   "outputs": [
    {
     "data": {
      "text/plain": [
       "<callable_iterator at 0x7fc0c5113fa0>"
      ]
     },
     "execution_count": 19,
     "metadata": {},
     "output_type": "execute_result"
    }
   ],
   "source": [
    "iter(lambda: random.choice(range(6)), 0)"
   ]
  },
  {
   "cell_type": "code",
   "execution_count": 25,
   "metadata": {},
   "outputs": [],
   "source": [
    "a= lambda: random.choice(range(6)), 0"
   ]
  },
  {
   "cell_type": "code",
   "execution_count": 18,
   "metadata": {},
   "outputs": [],
   "source": [
    "import random"
   ]
  },
  {
   "cell_type": "code",
   "execution_count": 27,
   "metadata": {},
   "outputs": [
    {
     "ename": "TypeError",
     "evalue": "'tuple' object is not callable",
     "output_type": "error",
     "traceback": [
      "\u001b[0;31m---------------------------------------------------------------------------\u001b[0m",
      "\u001b[0;31mTypeError\u001b[0m                                 Traceback (most recent call last)",
      "\u001b[0;32m/tmp/ipykernel_452556/3657634075.py\u001b[0m in \u001b[0;36m<module>\u001b[0;34m\u001b[0m\n\u001b[0;32m----> 1\u001b[0;31m \u001b[0ma\u001b[0m\u001b[0;34m(\u001b[0m\u001b[0;34m)\u001b[0m\u001b[0;34m\u001b[0m\u001b[0;34m\u001b[0m\u001b[0m\n\u001b[0m",
      "\u001b[0;31mTypeError\u001b[0m: 'tuple' object is not callable"
     ]
    }
   ],
   "source": []
  },
  {
   "cell_type": "code",
   "execution_count": 28,
   "metadata": {},
   "outputs": [
    {
     "data": {
      "text/plain": [
       "<function __main__.<lambda>(x)>"
      ]
     },
     "execution_count": 28,
     "metadata": {},
     "output_type": "execute_result"
    }
   ],
   "source": [
    "lambda x:x+1"
   ]
  },
  {
   "cell_type": "code",
   "execution_count": 29,
   "metadata": {},
   "outputs": [
    {
     "data": {
      "text/plain": [
       "10"
      ]
     },
     "execution_count": 29,
     "metadata": {},
     "output_type": "execute_result"
    }
   ],
   "source": [
    "(lambda x:x+1)(9)"
   ]
  },
  {
   "cell_type": "code",
   "execution_count": 31,
   "metadata": {},
   "outputs": [
    {
     "data": {
      "text/plain": [
       "function"
      ]
     },
     "execution_count": 31,
     "metadata": {},
     "output_type": "execute_result"
    }
   ],
   "source": [
    "type((lambda:1))"
   ]
  },
  {
   "cell_type": "code",
   "execution_count": 37,
   "metadata": {},
   "outputs": [
    {
     "name": "stdout",
     "output_type": "stream",
     "text": [
      "测试引用计数增加\n",
      "3\n",
      "4\n",
      "6\n",
      "我调用了plojjhhjhjk\n",
      "方法执行完了\n",
      "4\n",
      "5\n",
      "测试引用计数减少\n",
      "4\n",
      "3\n",
      "3\n",
      "4\n"
     ]
    }
   ],
   "source": [
    "import sys\n",
    "\n",
    "def ref_method(str):\n",
    "    print(sys.getrefcount(str))\n",
    "    print(\"我调用了{}\".format(str))\n",
    "    print('方法执行完了')\n",
    "\n",
    "def ref_count():\n",
    "    # 引用计数增加的场景\n",
    "    print('测试引用计数增加')\n",
    "    a = 'plojjhhjhjk'\n",
    "    print(sys.getrefcount(a))  \n",
    "    b = a\n",
    "    print(sys.getrefcount(a))\n",
    "    ref_method(a)\n",
    "    print(sys.getrefcount(a))\n",
    "    c = [1, a, 'abc']\n",
    "    print(sys.getrefcount(a))\n",
    "\n",
    "    # 引用计数减少的场景\n",
    "    print('测试引用计数减少')\n",
    "    del b\n",
    "    print(sys.getrefcount(a))\n",
    "    c.remove(a)\n",
    "    print(sys.getrefcount(a))\n",
    "    del c\n",
    "    print(sys.getrefcount(a))\n",
    "    a = 'jkgkhyhiolguuiuoipppopkkkkkkkkkkkkkkk'\n",
    "    print(sys.getrefcount(a))\n",
    "\n",
    "if __name__ == '__main__':\n",
    "    ref_count()"
   ]
  },
  {
   "cell_type": "code",
   "execution_count": 46,
   "metadata": {},
   "outputs": [
    {
     "name": "stdout",
     "output_type": "stream",
     "text": [
      "3\n"
     ]
    }
   ],
   "source": [
    "\n",
    "print(sys.getrefcount('jklopil'))"
   ]
  },
  {
   "cell_type": "code",
   "execution_count": null,
   "metadata": {},
   "outputs": [],
   "source": []
  }
 ],
 "metadata": {
  "kernelspec": {
   "display_name": "Python 3.6.12 ('citod')",
   "language": "python",
   "name": "python3"
  },
  "language_info": {
   "codemirror_mode": {
    "name": "ipython",
    "version": 3
   },
   "file_extension": ".py",
   "mimetype": "text/x-python",
   "name": "python",
   "nbconvert_exporter": "python",
   "pygments_lexer": "ipython3",
   "version": "3.6.12"
  },
  "vscode": {
   "interpreter": {
    "hash": "5210e0f3b96d854e0e472c7b81b330048f0b4561eb3d132737ba8298029c543c"
   }
  }
 },
 "nbformat": 4,
 "nbformat_minor": 4
}
